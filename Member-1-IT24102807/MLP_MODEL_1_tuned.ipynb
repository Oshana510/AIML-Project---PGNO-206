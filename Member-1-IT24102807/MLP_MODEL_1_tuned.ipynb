{
  "nbformat": 4,
  "nbformat_minor": 0,
  "metadata": {
    "colab": {
      "provenance": []
    },
    "kernelspec": {
      "name": "python3",
      "display_name": "Python 3"
    },
    "language_info": {
      "name": "python"
    }
  },
  "cells": [
    {
      "cell_type": "code",
      "execution_count": 1,
      "metadata": {
        "colab": {
          "base_uri": "https://localhost:8080/"
        },
        "id": "C4jAH-1L60sp",
        "outputId": "bae54a4a-a5ff-4145-dae1-292d344bbb67"
      },
      "outputs": [
        {
          "output_type": "stream",
          "name": "stdout",
          "text": [
            "Mounted at /content/drive\n"
          ]
        }
      ],
      "source": [
        "from google.colab import drive\n",
        "drive.mount('/content/drive')"
      ]
    },
    {
      "cell_type": "markdown",
      "source": [
        "**STEP 1: Import Required Libraries**"
      ],
      "metadata": {
        "id": "Lrhz-1hb-PPP"
      }
    },
    {
      "cell_type": "code",
      "source": [
        "import pandas as pd\n",
        "import numpy as np\n",
        "from sklearn.model_selection import train_test_split\n",
        "from sklearn.preprocessing import StandardScaler\n",
        "from sklearn.metrics import accuracy_score, classification_report, confusion_matrix\n",
        "from tensorflow.keras.models import Sequential\n",
        "from tensorflow.keras.layers import Dense, Dropout\n",
        "from tensorflow.keras.optimizers import Adam\n",
        "from tensorflow.keras.utils import to_categorical\n",
        "import matplotlib.pyplot as plt"
      ],
      "metadata": {
        "id": "gFXFPdVA7CQo"
      },
      "execution_count": 2,
      "outputs": []
    },
    {
      "cell_type": "markdown",
      "source": [
        "**STEP 2: Load Dataset**"
      ],
      "metadata": {
        "id": "FhzcRZjx-UIB"
      }
    },
    {
      "cell_type": "code",
      "source": [
        "data = pd.read_csv('df_with_stockcode_rfm.csv')"
      ],
      "metadata": {
        "id": "5HBqAoef7EjO"
      },
      "execution_count": 3,
      "outputs": []
    },
    {
      "cell_type": "code",
      "source": [
        "#Check first few rows to understand the data\n",
        "print(data.shape)\n",
        "print(data.head())"
      ],
      "metadata": {
        "colab": {
          "base_uri": "https://localhost:8080/"
        },
        "id": "05RepUwi7KmK",
        "outputId": "149882a4-9ff8-40e0-b464-f88485bbc4d7"
      },
      "execution_count": 4,
      "outputs": [
        {
          "output_type": "stream",
          "name": "stdout",
          "text": [
            "(12052, 1557)\n",
            "   UnitPrice  QuantityAbsolute  TotalAmount      Year     Month       Day  \\\n",
            "0  -0.787370         -0.009966    -0.468966  0.269665  1.306861 -0.678858   \n",
            "1  -0.265540          1.650565     1.793874  0.269665 -1.001465  0.480271   \n",
            "2  -0.787370          2.204075     0.963211  0.269665 -0.135843 -0.910684   \n",
            "3   0.281438         -0.840232    -0.762562  0.269665 -0.424384 -1.606161   \n",
            "4  -1.309200          0.543544    -0.824146  0.269665  0.441239 -0.215206   \n",
            "\n",
            "   DayOfWeek      Hour StockCode  Quantity  ... wreath  writing  yellow  \\\n",
            "0   0.840102 -1.216770    85049A         4  ...    0.0      0.0     0.0   \n",
            "1  -0.817183 -1.624390    85099B        10  ...    0.0      0.0     0.0   \n",
            "2   0.287673 -1.216770     21993        12  ...    0.0      0.0     0.0   \n",
            "3  -0.264755  0.821327     22699        -1  ...    0.0      0.0     0.0   \n",
            "4  -0.817183 -0.401531     23002         6  ...    0.0      0.0     0.0   \n",
            "\n",
            "   yellowblue  youre  yuletide  zinc  Recency  Frequency  Monetary  \n",
            "0         0.0    0.0       0.0   0.0        1          6     63.95  \n",
            "1         0.0    0.0       0.0   0.0       85          4     70.25  \n",
            "2         0.0    0.0       0.0   0.0      156          1     15.00  \n",
            "3         0.0    0.0       0.0   0.0      191          2     24.05  \n",
            "4         0.0    0.0       0.0   0.0       33          2     20.04  \n",
            "\n",
            "[5 rows x 1557 columns]\n"
          ]
        }
      ]
    },
    {
      "cell_type": "code",
      "source": [
        "#Check target column BEFORE splitting\n",
        "print(\"Unique values in IsCancelled column:\")\n",
        "print(data['IsCancelled'].unique())\n",
        "\n",
        "print(\"\\nNumber of NaN values in IsCancelled column:\")\n",
        "print(data['IsCancelled'].isna().sum())"
      ],
      "metadata": {
        "colab": {
          "base_uri": "https://localhost:8080/"
        },
        "id": "7M_rWmwb7cUq",
        "outputId": "a27de3b1-6c21-4b81-aa25-22ad4dd664be"
      },
      "execution_count": 5,
      "outputs": [
        {
          "output_type": "stream",
          "name": "stdout",
          "text": [
            "Unique values in IsCancelled column:\n",
            "[False  True]\n",
            "\n",
            "Number of NaN values in IsCancelled column:\n",
            "0\n"
          ]
        }
      ]
    },
    {
      "cell_type": "code",
      "source": [
        "# Convert to string, strip spaces, and uppercase\n",
        "data['IsCancelled'] = data['IsCancelled'].astype(str).str.strip().str.upper()\n",
        "\n",
        "# Map to 1/0 (TRUE = 1, FALSE = 0)\n",
        "data['IsCancelled'] = data['IsCancelled'].map({'TRUE': 1, 'FALSE': 0})\n",
        "\n",
        "# Drop rows where target is NaN (invalid values)\n",
        "data = data.dropna(subset=['IsCancelled'])\n",
        "\n",
        "print(\"Rows remaining after cleaning target:\", data.shape[0])"
      ],
      "metadata": {
        "colab": {
          "base_uri": "https://localhost:8080/"
        },
        "id": "qixzSKaI7f2-",
        "outputId": "0544d304-f32d-4899-a72d-ede1d043df11"
      },
      "execution_count": 6,
      "outputs": [
        {
          "output_type": "stream",
          "name": "stdout",
          "text": [
            "Rows remaining after cleaning target: 12052\n"
          ]
        }
      ]
    },
    {
      "cell_type": "code",
      "source": [
        "X = data.drop(columns=['IsCancelled'])\n",
        "y = data['IsCancelled']\n",
        "\n",
        "X = pd.get_dummies(X, drop_first=True)"
      ],
      "metadata": {
        "id": "f2HjUyav7iWX"
      },
      "execution_count": 7,
      "outputs": []
    },
    {
      "cell_type": "code",
      "source": [
        "print(\"X shape:\", X.shape)\n",
        "print(\"y shape:\", y.shape)"
      ],
      "metadata": {
        "colab": {
          "base_uri": "https://localhost:8080/"
        },
        "id": "UYgnlGbP7lFm",
        "outputId": "b98982fa-f34e-4ce0-8362-4c822204f5a3"
      },
      "execution_count": 8,
      "outputs": [
        {
          "output_type": "stream",
          "name": "stdout",
          "text": [
            "X shape: (12052, 10457)\n",
            "y shape: (12052,)\n"
          ]
        }
      ]
    },
    {
      "cell_type": "markdown",
      "source": [
        "**STEP 3: Split train and test**"
      ],
      "metadata": {
        "id": "9e3zX-c4-jIj"
      }
    },
    {
      "cell_type": "code",
      "source": [
        "from sklearn.model_selection import train_test_split\n",
        "X_train, X_test, y_train, y_test = train_test_split(\n",
        "    X, y, test_size=0.2, random_state=42\n",
        ")"
      ],
      "metadata": {
        "id": "pLhlLJPa7naM"
      },
      "execution_count": 28,
      "outputs": []
    },
    {
      "cell_type": "code",
      "source": [
        "#Handle NaNs in features\n",
        "from sklearn.impute import SimpleImputer\n",
        "imputer = SimpleImputer(strategy='mean')\n",
        "X_train = imputer.fit_transform(X_train)\n",
        "X_test = imputer.transform(X_test)"
      ],
      "metadata": {
        "id": "3iRhvR_p7qZ2"
      },
      "execution_count": 29,
      "outputs": []
    },
    {
      "cell_type": "markdown",
      "source": [
        "**STEP 4: Standardize**"
      ],
      "metadata": {
        "id": "0WmcNtdJ-mHj"
      }
    },
    {
      "cell_type": "code",
      "source": [
        "from sklearn.preprocessing import StandardScaler\n",
        "scaler = StandardScaler()\n",
        "X_train = scaler.fit_transform(X_train)\n",
        "X_test = scaler.transform(X_test)"
      ],
      "metadata": {
        "id": "uDweoeCY7umq"
      },
      "execution_count": 30,
      "outputs": []
    },
    {
      "cell_type": "markdown",
      "source": [
        "**STEP 5:Build MLP**"
      ],
      "metadata": {
        "id": "qfElBLiI-uoI"
      }
    },
    {
      "cell_type": "code",
      "source": [
        "from tensorflow.keras.models import Sequential\n",
        "from tensorflow.keras.layers import Dense, Dropout, Input\n",
        "from tensorflow.keras.activations import swish\n",
        "from tensorflow.keras import regularizers\n",
        "\n",
        "model = Sequential()\n",
        "model.add(Input(shape=(X_train.shape[1],)))  # Input layer\n",
        "\n",
        "# First hidden layer with tanh activation\n",
        "model.add(Dense(32, activation='relu', kernel_regularizer=regularizers.l2(0.01)))\n",
        "model.add(Dropout(0.6))  # Dropout after first hidden layer\n",
        "\n",
        "# Second hidden layer with tanh activation\n",
        "model.add(Dense(16, activation='relu', kernel_regularizer=regularizers.l2(0.01)))\n",
        "model.add(Dropout(0.55))  # Dropout after second hidden layer\n",
        "\n",
        "# third hidden layer with tanh activation\n",
        "model.add(Dense(8, activation='relu', kernel_regularizer=regularizers.l2(0.005)))\n",
        "model.add(Dropout(0.4))  # Dropout after second hidden layer\n",
        "\n",
        "# Output layer (sigmoid for binary classification)\n",
        "model.add(Dense(1, activation='sigmoid'))"
      ],
      "metadata": {
        "id": "pO8iZitF8FRX"
      },
      "execution_count": 58,
      "outputs": []
    },
    {
      "cell_type": "code",
      "source": [
        "optimizer = Adam(learning_rate=0.0001)\n",
        "model.compile(\n",
        "    optimizer = optimizer,\n",
        "    #optimizer='adam', # Adaptive optimizer\n",
        "    loss='binary_crossentropy',    # Suitable for binary classification\n",
        "    metrics=['accuracy']           # Track accuracy during training\n",
        ")"
      ],
      "metadata": {
        "id": "Dkhv6YvoIdOp"
      },
      "execution_count": 59,
      "outputs": []
    },
    {
      "cell_type": "markdown",
      "source": [
        "**STEP 7: Train (fit) the model**"
      ],
      "metadata": {
        "id": "spS1O4-J-2Uv"
      }
    },
    {
      "cell_type": "code",
      "source": [
        "history = model.fit(\n",
        "    X_train, y_train,\n",
        "    validation_data=(X_test, y_test),  # Optional, to track test performance\n",
        "    epochs=50,                          # Number of passes over the data\n",
        "    batch_size=32,                      # Size of each mini-batch\n",
        "    verbose=1\n",
        ")"
      ],
      "metadata": {
        "colab": {
          "base_uri": "https://localhost:8080/"
        },
        "id": "yNMHBJYL8Gy_",
        "outputId": "8f74eb43-3850-4620-fa5a-2993bd74daf1"
      },
      "execution_count": 60,
      "outputs": [
        {
          "output_type": "stream",
          "name": "stdout",
          "text": [
            "Epoch 1/50\n",
            "\u001b[1m302/302\u001b[0m \u001b[32m━━━━━━━━━━━━━━━━━━━━\u001b[0m\u001b[37m\u001b[0m \u001b[1m6s\u001b[0m 14ms/step - accuracy: 0.5289 - loss: 1.5990 - val_accuracy: 0.5570 - val_loss: 1.1260\n",
            "Epoch 2/50\n",
            "\u001b[1m302/302\u001b[0m \u001b[32m━━━━━━━━━━━━━━━━━━━━\u001b[0m\u001b[37m\u001b[0m \u001b[1m5s\u001b[0m 15ms/step - accuracy: 0.5297 - loss: 1.1633 - val_accuracy: 0.5745 - val_loss: 1.0636\n",
            "Epoch 3/50\n",
            "\u001b[1m302/302\u001b[0m \u001b[32m━━━━━━━━━━━━━━━━━━━━\u001b[0m\u001b[37m\u001b[0m \u001b[1m3s\u001b[0m 11ms/step - accuracy: 0.5338 - loss: 1.1081 - val_accuracy: 0.6014 - val_loss: 1.0366\n",
            "Epoch 4/50\n",
            "\u001b[1m302/302\u001b[0m \u001b[32m━━━━━━━━━━━━━━━━━━━━\u001b[0m\u001b[37m\u001b[0m \u001b[1m4s\u001b[0m 12ms/step - accuracy: 0.5527 - loss: 1.0600 - val_accuracy: 0.6396 - val_loss: 1.0073\n",
            "Epoch 5/50\n",
            "\u001b[1m302/302\u001b[0m \u001b[32m━━━━━━━━━━━━━━━━━━━━\u001b[0m\u001b[37m\u001b[0m \u001b[1m5s\u001b[0m 15ms/step - accuracy: 0.5919 - loss: 1.0106 - val_accuracy: 0.6711 - val_loss: 0.9808\n",
            "Epoch 6/50\n",
            "\u001b[1m302/302\u001b[0m \u001b[32m━━━━━━━━━━━━━━━━━━━━\u001b[0m\u001b[37m\u001b[0m \u001b[1m4s\u001b[0m 11ms/step - accuracy: 0.6011 - loss: 0.9804 - val_accuracy: 0.6960 - val_loss: 0.9548\n",
            "Epoch 7/50\n",
            "\u001b[1m302/302\u001b[0m \u001b[32m━━━━━━━━━━━━━━━━━━━━\u001b[0m\u001b[37m\u001b[0m \u001b[1m3s\u001b[0m 10ms/step - accuracy: 0.6217 - loss: 0.9410 - val_accuracy: 0.7234 - val_loss: 0.9255\n",
            "Epoch 8/50\n",
            "\u001b[1m302/302\u001b[0m \u001b[32m━━━━━━━━━━━━━━━━━━━━\u001b[0m\u001b[37m\u001b[0m \u001b[1m3s\u001b[0m 11ms/step - accuracy: 0.6534 - loss: 0.9064 - val_accuracy: 0.7503 - val_loss: 0.8954\n",
            "Epoch 9/50\n",
            "\u001b[1m302/302\u001b[0m \u001b[32m━━━━━━━━━━━━━━━━━━━━\u001b[0m\u001b[37m\u001b[0m \u001b[1m5s\u001b[0m 17ms/step - accuracy: 0.6761 - loss: 0.8784 - val_accuracy: 0.7640 - val_loss: 0.8653\n",
            "Epoch 10/50\n",
            "\u001b[1m302/302\u001b[0m \u001b[32m━━━━━━━━━━━━━━━━━━━━\u001b[0m\u001b[37m\u001b[0m \u001b[1m3s\u001b[0m 11ms/step - accuracy: 0.6830 - loss: 0.8431 - val_accuracy: 0.7822 - val_loss: 0.8315\n",
            "Epoch 11/50\n",
            "\u001b[1m302/302\u001b[0m \u001b[32m━━━━━━━━━━━━━━━━━━━━\u001b[0m\u001b[37m\u001b[0m \u001b[1m3s\u001b[0m 11ms/step - accuracy: 0.7218 - loss: 0.7995 - val_accuracy: 0.8009 - val_loss: 0.7926\n",
            "Epoch 12/50\n",
            "\u001b[1m302/302\u001b[0m \u001b[32m━━━━━━━━━━━━━━━━━━━━\u001b[0m\u001b[37m\u001b[0m \u001b[1m3s\u001b[0m 12ms/step - accuracy: 0.7511 - loss: 0.7620 - val_accuracy: 0.8192 - val_loss: 0.7506\n",
            "Epoch 13/50\n",
            "\u001b[1m302/302\u001b[0m \u001b[32m━━━━━━━━━━━━━━━━━━━━\u001b[0m\u001b[37m\u001b[0m \u001b[1m5s\u001b[0m 15ms/step - accuracy: 0.7798 - loss: 0.7255 - val_accuracy: 0.8337 - val_loss: 0.7072\n",
            "Epoch 14/50\n",
            "\u001b[1m302/302\u001b[0m \u001b[32m━━━━━━━━━━━━━━━━━━━━\u001b[0m\u001b[37m\u001b[0m \u001b[1m3s\u001b[0m 10ms/step - accuracy: 0.8074 - loss: 0.6804 - val_accuracy: 0.8436 - val_loss: 0.6635\n",
            "Epoch 15/50\n",
            "\u001b[1m302/302\u001b[0m \u001b[32m━━━━━━━━━━━━━━━━━━━━\u001b[0m\u001b[37m\u001b[0m \u001b[1m3s\u001b[0m 10ms/step - accuracy: 0.8342 - loss: 0.6389 - val_accuracy: 0.8627 - val_loss: 0.6212\n",
            "Epoch 16/50\n",
            "\u001b[1m302/302\u001b[0m \u001b[32m━━━━━━━━━━━━━━━━━━━━\u001b[0m\u001b[37m\u001b[0m \u001b[1m3s\u001b[0m 11ms/step - accuracy: 0.8547 - loss: 0.5945 - val_accuracy: 0.8681 - val_loss: 0.5779\n",
            "Epoch 17/50\n",
            "\u001b[1m302/302\u001b[0m \u001b[32m━━━━━━━━━━━━━━━━━━━━\u001b[0m\u001b[37m\u001b[0m \u001b[1m5s\u001b[0m 16ms/step - accuracy: 0.8807 - loss: 0.5489 - val_accuracy: 0.8789 - val_loss: 0.5384\n",
            "Epoch 18/50\n",
            "\u001b[1m302/302\u001b[0m \u001b[32m━━━━━━━━━━━━━━━━━━━━\u001b[0m\u001b[37m\u001b[0m \u001b[1m3s\u001b[0m 11ms/step - accuracy: 0.8935 - loss: 0.5100 - val_accuracy: 0.8859 - val_loss: 0.5061\n",
            "Epoch 19/50\n",
            "\u001b[1m302/302\u001b[0m \u001b[32m━━━━━━━━━━━━━━━━━━━━\u001b[0m\u001b[37m\u001b[0m \u001b[1m3s\u001b[0m 11ms/step - accuracy: 0.9119 - loss: 0.4758 - val_accuracy: 0.8942 - val_loss: 0.4727\n",
            "Epoch 20/50\n",
            "\u001b[1m302/302\u001b[0m \u001b[32m━━━━━━━━━━━━━━━━━━━━\u001b[0m\u001b[37m\u001b[0m \u001b[1m4s\u001b[0m 13ms/step - accuracy: 0.9295 - loss: 0.4343 - val_accuracy: 0.9000 - val_loss: 0.4442\n",
            "Epoch 21/50\n",
            "\u001b[1m302/302\u001b[0m \u001b[32m━━━━━━━━━━━━━━━━━━━━\u001b[0m\u001b[37m\u001b[0m \u001b[1m5s\u001b[0m 15ms/step - accuracy: 0.9300 - loss: 0.4089 - val_accuracy: 0.9042 - val_loss: 0.4199\n",
            "Epoch 22/50\n",
            "\u001b[1m302/302\u001b[0m \u001b[32m━━━━━━━━━━━━━━━━━━━━\u001b[0m\u001b[37m\u001b[0m \u001b[1m3s\u001b[0m 10ms/step - accuracy: 0.9384 - loss: 0.3864 - val_accuracy: 0.9071 - val_loss: 0.3997\n",
            "Epoch 23/50\n",
            "\u001b[1m302/302\u001b[0m \u001b[32m━━━━━━━━━━━━━━━━━━━━\u001b[0m\u001b[37m\u001b[0m \u001b[1m5s\u001b[0m 11ms/step - accuracy: 0.9472 - loss: 0.3639 - val_accuracy: 0.9170 - val_loss: 0.3799\n",
            "Epoch 24/50\n",
            "\u001b[1m302/302\u001b[0m \u001b[32m━━━━━━━━━━━━━━━━━━━━\u001b[0m\u001b[37m\u001b[0m \u001b[1m5s\u001b[0m 16ms/step - accuracy: 0.9578 - loss: 0.3344 - val_accuracy: 0.9175 - val_loss: 0.3623\n",
            "Epoch 25/50\n",
            "\u001b[1m302/302\u001b[0m \u001b[32m━━━━━━━━━━━━━━━━━━━━\u001b[0m\u001b[37m\u001b[0m \u001b[1m3s\u001b[0m 11ms/step - accuracy: 0.9572 - loss: 0.3167 - val_accuracy: 0.9204 - val_loss: 0.3492\n",
            "Epoch 26/50\n",
            "\u001b[1m302/302\u001b[0m \u001b[32m━━━━━━━━━━━━━━━━━━━━\u001b[0m\u001b[37m\u001b[0m \u001b[1m3s\u001b[0m 11ms/step - accuracy: 0.9612 - loss: 0.2990 - val_accuracy: 0.9237 - val_loss: 0.3329\n",
            "Epoch 27/50\n",
            "\u001b[1m302/302\u001b[0m \u001b[32m━━━━━━━━━━━━━━━━━━━━\u001b[0m\u001b[37m\u001b[0m \u001b[1m4s\u001b[0m 12ms/step - accuracy: 0.9668 - loss: 0.2786 - val_accuracy: 0.9237 - val_loss: 0.3281\n",
            "Epoch 28/50\n",
            "\u001b[1m302/302\u001b[0m \u001b[32m━━━━━━━━━━━━━━━━━━━━\u001b[0m\u001b[37m\u001b[0m \u001b[1m5s\u001b[0m 15ms/step - accuracy: 0.9699 - loss: 0.2667 - val_accuracy: 0.9291 - val_loss: 0.3177\n",
            "Epoch 29/50\n",
            "\u001b[1m302/302\u001b[0m \u001b[32m━━━━━━━━━━━━━━━━━━━━\u001b[0m\u001b[37m\u001b[0m \u001b[1m3s\u001b[0m 10ms/step - accuracy: 0.9714 - loss: 0.2570 - val_accuracy: 0.9303 - val_loss: 0.3070\n",
            "Epoch 30/50\n",
            "\u001b[1m302/302\u001b[0m \u001b[32m━━━━━━━━━━━━━━━━━━━━\u001b[0m\u001b[37m\u001b[0m \u001b[1m3s\u001b[0m 10ms/step - accuracy: 0.9746 - loss: 0.2472 - val_accuracy: 0.9332 - val_loss: 0.2994\n",
            "Epoch 31/50\n",
            "\u001b[1m302/302\u001b[0m \u001b[32m━━━━━━━━━━━━━━━━━━━━\u001b[0m\u001b[37m\u001b[0m \u001b[1m3s\u001b[0m 11ms/step - accuracy: 0.9776 - loss: 0.2394 - val_accuracy: 0.9357 - val_loss: 0.2940\n",
            "Epoch 32/50\n",
            "\u001b[1m302/302\u001b[0m \u001b[32m━━━━━━━━━━━━━━━━━━━━\u001b[0m\u001b[37m\u001b[0m \u001b[1m5s\u001b[0m 15ms/step - accuracy: 0.9794 - loss: 0.2260 - val_accuracy: 0.9341 - val_loss: 0.2896\n",
            "Epoch 33/50\n",
            "\u001b[1m302/302\u001b[0m \u001b[32m━━━━━━━━━━━━━━━━━━━━\u001b[0m\u001b[37m\u001b[0m \u001b[1m4s\u001b[0m 10ms/step - accuracy: 0.9801 - loss: 0.2201 - val_accuracy: 0.9345 - val_loss: 0.2849\n",
            "Epoch 34/50\n",
            "\u001b[1m302/302\u001b[0m \u001b[32m━━━━━━━━━━━━━━━━━━━━\u001b[0m\u001b[37m\u001b[0m \u001b[1m3s\u001b[0m 10ms/step - accuracy: 0.9782 - loss: 0.2140 - val_accuracy: 0.9353 - val_loss: 0.2826\n",
            "Epoch 35/50\n",
            "\u001b[1m302/302\u001b[0m \u001b[32m━━━━━━━━━━━━━━━━━━━━\u001b[0m\u001b[37m\u001b[0m \u001b[1m7s\u001b[0m 16ms/step - accuracy: 0.9830 - loss: 0.2032 - val_accuracy: 0.9345 - val_loss: 0.2747\n",
            "Epoch 36/50\n",
            "\u001b[1m302/302\u001b[0m \u001b[32m━━━━━━━━━━━━━━━━━━━━\u001b[0m\u001b[37m\u001b[0m \u001b[1m3s\u001b[0m 10ms/step - accuracy: 0.9822 - loss: 0.1987 - val_accuracy: 0.9349 - val_loss: 0.2704\n",
            "Epoch 37/50\n",
            "\u001b[1m302/302\u001b[0m \u001b[32m━━━━━━━━━━━━━━━━━━━━\u001b[0m\u001b[37m\u001b[0m \u001b[1m3s\u001b[0m 10ms/step - accuracy: 0.9827 - loss: 0.1947 - val_accuracy: 0.9382 - val_loss: 0.2667\n",
            "Epoch 38/50\n",
            "\u001b[1m302/302\u001b[0m \u001b[32m━━━━━━━━━━━━━━━━━━━━\u001b[0m\u001b[37m\u001b[0m \u001b[1m3s\u001b[0m 10ms/step - accuracy: 0.9828 - loss: 0.1916 - val_accuracy: 0.9407 - val_loss: 0.2662\n",
            "Epoch 39/50\n",
            "\u001b[1m302/302\u001b[0m \u001b[32m━━━━━━━━━━━━━━━━━━━━\u001b[0m\u001b[37m\u001b[0m \u001b[1m5s\u001b[0m 16ms/step - accuracy: 0.9847 - loss: 0.1806 - val_accuracy: 0.9374 - val_loss: 0.2563\n",
            "Epoch 40/50\n",
            "\u001b[1m302/302\u001b[0m \u001b[32m━━━━━━━━━━━━━━━━━━━━\u001b[0m\u001b[37m\u001b[0m \u001b[1m3s\u001b[0m 10ms/step - accuracy: 0.9819 - loss: 0.1779 - val_accuracy: 0.9399 - val_loss: 0.2550\n",
            "Epoch 41/50\n",
            "\u001b[1m302/302\u001b[0m \u001b[32m━━━━━━━━━━━━━━━━━━━━\u001b[0m\u001b[37m\u001b[0m \u001b[1m3s\u001b[0m 10ms/step - accuracy: 0.9837 - loss: 0.1753 - val_accuracy: 0.9390 - val_loss: 0.2471\n",
            "Epoch 42/50\n",
            "\u001b[1m302/302\u001b[0m \u001b[32m━━━━━━━━━━━━━━━━━━━━\u001b[0m\u001b[37m\u001b[0m \u001b[1m3s\u001b[0m 11ms/step - accuracy: 0.9860 - loss: 0.1692 - val_accuracy: 0.9394 - val_loss: 0.2435\n",
            "Epoch 43/50\n",
            "\u001b[1m302/302\u001b[0m \u001b[32m━━━━━━━━━━━━━━━━━━━━\u001b[0m\u001b[37m\u001b[0m \u001b[1m5s\u001b[0m 16ms/step - accuracy: 0.9825 - loss: 0.1697 - val_accuracy: 0.9378 - val_loss: 0.2522\n",
            "Epoch 44/50\n",
            "\u001b[1m302/302\u001b[0m \u001b[32m━━━━━━━━━━━━━━━━━━━━\u001b[0m\u001b[37m\u001b[0m \u001b[1m3s\u001b[0m 10ms/step - accuracy: 0.9850 - loss: 0.1662 - val_accuracy: 0.9419 - val_loss: 0.2427\n",
            "Epoch 45/50\n",
            "\u001b[1m302/302\u001b[0m \u001b[32m━━━━━━━━━━━━━━━━━━━━\u001b[0m\u001b[37m\u001b[0m \u001b[1m3s\u001b[0m 11ms/step - accuracy: 0.9820 - loss: 0.1679 - val_accuracy: 0.9432 - val_loss: 0.2371\n",
            "Epoch 46/50\n",
            "\u001b[1m302/302\u001b[0m \u001b[32m━━━━━━━━━━━━━━━━━━━━\u001b[0m\u001b[37m\u001b[0m \u001b[1m4s\u001b[0m 12ms/step - accuracy: 0.9882 - loss: 0.1586 - val_accuracy: 0.9444 - val_loss: 0.2349\n",
            "Epoch 47/50\n",
            "\u001b[1m302/302\u001b[0m \u001b[32m━━━━━━━━━━━━━━━━━━━━\u001b[0m\u001b[37m\u001b[0m \u001b[1m5s\u001b[0m 16ms/step - accuracy: 0.9849 - loss: 0.1583 - val_accuracy: 0.9453 - val_loss: 0.2307\n",
            "Epoch 48/50\n",
            "\u001b[1m302/302\u001b[0m \u001b[32m━━━━━━━━━━━━━━━━━━━━\u001b[0m\u001b[37m\u001b[0m \u001b[1m4s\u001b[0m 11ms/step - accuracy: 0.9859 - loss: 0.1556 - val_accuracy: 0.9432 - val_loss: 0.2347\n",
            "Epoch 49/50\n",
            "\u001b[1m302/302\u001b[0m \u001b[32m━━━━━━━━━━━━━━━━━━━━\u001b[0m\u001b[37m\u001b[0m \u001b[1m5s\u001b[0m 12ms/step - accuracy: 0.9857 - loss: 0.1527 - val_accuracy: 0.9428 - val_loss: 0.2242\n",
            "Epoch 50/50\n",
            "\u001b[1m302/302\u001b[0m \u001b[32m━━━━━━━━━━━━━━━━━━━━\u001b[0m\u001b[37m\u001b[0m \u001b[1m5s\u001b[0m 17ms/step - accuracy: 0.9887 - loss: 0.1483 - val_accuracy: 0.9428 - val_loss: 0.2325\n"
          ]
        }
      ]
    },
    {
      "cell_type": "code",
      "source": [
        "# Probabilities\n",
        "y_train_prob = model.predict(X_train)\n",
        "y_test_prob = model.predict(X_test)\n",
        "\n",
        "# Convert probabilities to 0/1 labels\n",
        "y_train_pred = (y_train_prob > 0.5).astype(int)\n",
        "y_test_pred = (y_test_prob > 0.5).astype(int)"
      ],
      "metadata": {
        "colab": {
          "base_uri": "https://localhost:8080/"
        },
        "id": "hXZc8-6lCGf9",
        "outputId": "17b27960-38b9-403b-856f-bcded71bc875"
      },
      "execution_count": 61,
      "outputs": [
        {
          "output_type": "stream",
          "name": "stdout",
          "text": [
            "\u001b[1m302/302\u001b[0m \u001b[32m━━━━━━━━━━━━━━━━━━━━\u001b[0m\u001b[37m\u001b[0m \u001b[1m1s\u001b[0m 3ms/step\n",
            "\u001b[1m76/76\u001b[0m \u001b[32m━━━━━━━━━━━━━━━━━━━━\u001b[0m\u001b[37m\u001b[0m \u001b[1m0s\u001b[0m 3ms/step\n"
          ]
        }
      ]
    },
    {
      "cell_type": "markdown",
      "source": [
        "**STEP 8: Evaluate the Model**"
      ],
      "metadata": {
        "id": "DMstp2FX-5qf"
      }
    },
    {
      "cell_type": "code",
      "source": [
        "from sklearn.metrics import f1_score, roc_auc_score, accuracy_score, confusion_matrix, classification_report\n",
        "from tensorflow.keras import regularizers\n",
        "\n",
        "# F1 Scores\n",
        "f1_train = f1_score(y_train, y_train_pred)\n",
        "f1_test = f1_score(y_test, y_test_pred)\n",
        "\n",
        "# ROC AUC Scores\n",
        "roc_train = roc_auc_score(y_train, y_train_pred)\n",
        "roc_test = roc_auc_score(y_test, y_test_pred)\n",
        "\n",
        "print(\"\\n--- Performance Comparison (Train vs. Test) ---\")\n",
        "print(f\"F1 Score (Training): {f1_train:.4f}\")\n",
        "print(f\"F1 Score (Test): {f1_test:.4f}\")\n",
        "print(f\"ROC AUC Score (Training): {roc_train:.4f}\")\n",
        "print(f\"ROC AUC Score (Test): {roc_test:.4f}\")\n",
        "\n",
        "# Accuracy, Confusion Matrix, Classification Report\n",
        "print(\"\\nAccuracy (Test):\", accuracy_score(y_test, y_test_pred))\n",
        "print(\"\\nConfusion Matrix:\\n\", confusion_matrix(y_test, y_test_pred))\n",
        "print(\"\\nClassification Report:\\n\", classification_report(y_test, y_test_pred))"
      ],
      "metadata": {
        "colab": {
          "base_uri": "https://localhost:8080/"
        },
        "id": "gBDlSv7o9ZLe",
        "outputId": "5fe3651f-21ec-494b-d593-21f483a6f2b5"
      },
      "execution_count": 62,
      "outputs": [
        {
          "output_type": "stream",
          "name": "stdout",
          "text": [
            "\n",
            "--- Performance Comparison (Train vs. Test) ---\n",
            "F1 Score (Training): 0.9999\n",
            "F1 Score (Test): 0.9407\n",
            "ROC AUC Score (Training): 0.9999\n",
            "ROC AUC Score (Test): 0.9433\n",
            "\n",
            "Accuracy (Test): 0.9427623392783078\n",
            "\n",
            "Confusion Matrix:\n",
            " [[1179   85]\n",
            " [  53 1094]]\n",
            "\n",
            "Classification Report:\n",
            "               precision    recall  f1-score   support\n",
            "\n",
            "           0       0.96      0.93      0.94      1264\n",
            "           1       0.93      0.95      0.94      1147\n",
            "\n",
            "    accuracy                           0.94      2411\n",
            "   macro avg       0.94      0.94      0.94      2411\n",
            "weighted avg       0.94      0.94      0.94      2411\n",
            "\n"
          ]
        }
      ]
    }
  ]
}