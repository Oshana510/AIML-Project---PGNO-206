{
  "nbformat": 4,
  "nbformat_minor": 0,
  "metadata": {
    "colab": {
      "provenance": []
    },
    "kernelspec": {
      "name": "python3",
      "display_name": "Python 3"
    },
    "language_info": {
      "name": "python"
    }
  },
  "cells": [
    {
      "cell_type": "code",
      "execution_count": 1,
      "metadata": {
        "colab": {
          "base_uri": "https://localhost:8080/"
        },
        "id": "2lbk4mlOL-13",
        "outputId": "b769c182-158e-4cf7-8914-0d0b598f1e9d"
      },
      "outputs": [
        {
          "output_type": "stream",
          "name": "stdout",
          "text": [
            "Mounted at /content/drive\n"
          ]
        }
      ],
      "source": [
        "from google.colab import drive\n",
        "drive.mount('/content/drive')"
      ]
    },
    {
      "cell_type": "markdown",
      "source": [
        "**STEP 1: Import Required Libraries**"
      ],
      "metadata": {
        "id": "trlh4kGt8kmg"
      }
    },
    {
      "cell_type": "code",
      "source": [
        "import pandas as pd\n",
        "import numpy as np\n",
        "from sklearn.model_selection import train_test_split\n",
        "from sklearn.preprocessing import StandardScaler\n",
        "from sklearn.metrics import accuracy_score, classification_report, confusion_matrix\n",
        "from tensorflow.keras.models import Sequential\n",
        "from tensorflow.keras.layers import Dense, Dropout\n",
        "from tensorflow.keras.optimizers import Adam\n",
        "from tensorflow.keras.utils import to_categorical\n",
        "import matplotlib.pyplot as plt"
      ],
      "metadata": {
        "id": "hNWy3d8gMh6d"
      },
      "execution_count": 2,
      "outputs": []
    },
    {
      "cell_type": "markdown",
      "source": [
        "**STEP 2: Load Dataset**"
      ],
      "metadata": {
        "id": "Zf2VUrh88p_O"
      }
    },
    {
      "cell_type": "code",
      "source": [
        "data = pd.read_csv('df_with_stockcode_rfm.csv')"
      ],
      "metadata": {
        "id": "0fthppp-MrIH"
      },
      "execution_count": 3,
      "outputs": []
    },
    {
      "cell_type": "code",
      "source": [
        "#Check first few rows to understand the data\n",
        "print(data.shape)\n",
        "print(data.head())"
      ],
      "metadata": {
        "colab": {
          "base_uri": "https://localhost:8080/"
        },
        "id": "a5MJb6qhMwTH",
        "outputId": "fa55cbe4-fd24-4109-e9b6-23f6f5c73b5d"
      },
      "execution_count": 4,
      "outputs": [
        {
          "output_type": "stream",
          "name": "stdout",
          "text": [
            "(12052, 1557)\n",
            "   UnitPrice  QuantityAbsolute  TotalAmount      Year     Month       Day  \\\n",
            "0  -0.787370         -0.009966    -0.468966  0.269665  1.306861 -0.678858   \n",
            "1  -0.265540          1.650565     1.793874  0.269665 -1.001465  0.480271   \n",
            "2  -0.787370          2.204075     0.963211  0.269665 -0.135843 -0.910684   \n",
            "3   0.281438         -0.840232    -0.762562  0.269665 -0.424384 -1.606161   \n",
            "4  -1.309200          0.543544    -0.824146  0.269665  0.441239 -0.215206   \n",
            "\n",
            "   DayOfWeek      Hour StockCode  Quantity  ... wreath  writing  yellow  \\\n",
            "0   0.840102 -1.216770    85049A         4  ...    0.0      0.0     0.0   \n",
            "1  -0.817183 -1.624390    85099B        10  ...    0.0      0.0     0.0   \n",
            "2   0.287673 -1.216770     21993        12  ...    0.0      0.0     0.0   \n",
            "3  -0.264755  0.821327     22699        -1  ...    0.0      0.0     0.0   \n",
            "4  -0.817183 -0.401531     23002         6  ...    0.0      0.0     0.0   \n",
            "\n",
            "   yellowblue  youre  yuletide  zinc  Recency  Frequency  Monetary  \n",
            "0         0.0    0.0       0.0   0.0        1          6     63.95  \n",
            "1         0.0    0.0       0.0   0.0       85          4     70.25  \n",
            "2         0.0    0.0       0.0   0.0      156          1     15.00  \n",
            "3         0.0    0.0       0.0   0.0      191          2     24.05  \n",
            "4         0.0    0.0       0.0   0.0       33          2     20.04  \n",
            "\n",
            "[5 rows x 1557 columns]\n"
          ]
        }
      ]
    },
    {
      "cell_type": "code",
      "source": [
        "#Check target column BEFORE splitting\n",
        "print(\"Unique values in IsCancelled column:\")\n",
        "print(data['IsCancelled'].unique())\n",
        "\n",
        "print(\"\\nNumber of NaN values in IsCancelled column:\")\n",
        "print(data['IsCancelled'].isna().sum())"
      ],
      "metadata": {
        "colab": {
          "base_uri": "https://localhost:8080/"
        },
        "id": "YzCqzZdrMxFz",
        "outputId": "df16faf9-9dd3-40e1-b681-5321e30fb017"
      },
      "execution_count": 5,
      "outputs": [
        {
          "output_type": "stream",
          "name": "stdout",
          "text": [
            "Unique values in IsCancelled column:\n",
            "[False  True]\n",
            "\n",
            "Number of NaN values in IsCancelled column:\n",
            "0\n"
          ]
        }
      ]
    },
    {
      "cell_type": "code",
      "source": [
        "# Convert to string, strip spaces, and uppercase\n",
        "data['IsCancelled'] = data['IsCancelled'].astype(str).str.strip().str.upper()\n",
        "\n",
        "# Map to 1/0 (TRUE = 1, FALSE = 0)\n",
        "data['IsCancelled'] = data['IsCancelled'].map({'TRUE': 1, 'FALSE': 0})\n",
        "\n",
        "# Drop rows where target is NaN (invalid values)\n",
        "data = data.dropna(subset=['IsCancelled'])\n",
        "\n",
        "print(\"Rows remaining after cleaning target:\", data.shape[0])"
      ],
      "metadata": {
        "colab": {
          "base_uri": "https://localhost:8080/"
        },
        "id": "AkM-hy23NIfs",
        "outputId": "a79788dd-351f-4a9f-b94c-5554f6df5d9b"
      },
      "execution_count": 6,
      "outputs": [
        {
          "output_type": "stream",
          "name": "stdout",
          "text": [
            "Rows remaining after cleaning target: 12052\n"
          ]
        }
      ]
    },
    {
      "cell_type": "code",
      "source": [
        "X = data.drop(columns=['IsCancelled'])\n",
        "y = data['IsCancelled']\n",
        "\n",
        "X = pd.get_dummies(X, drop_first=True)"
      ],
      "metadata": {
        "id": "jQ7koV1oNLKK"
      },
      "execution_count": 7,
      "outputs": []
    },
    {
      "cell_type": "code",
      "source": [
        "print(\"X shape:\", X.shape)\n",
        "print(\"y shape:\", y.shape)"
      ],
      "metadata": {
        "colab": {
          "base_uri": "https://localhost:8080/"
        },
        "id": "ceDuHsjzNPVr",
        "outputId": "20932312-005b-4fef-ac6e-28f8558c27f4"
      },
      "execution_count": 8,
      "outputs": [
        {
          "output_type": "stream",
          "name": "stdout",
          "text": [
            "X shape: (12052, 10457)\n",
            "y shape: (12052,)\n"
          ]
        }
      ]
    },
    {
      "cell_type": "markdown",
      "source": [
        "**STEP 3: Split train and test**"
      ],
      "metadata": {
        "id": "4eZ1N8hr8vLy"
      }
    },
    {
      "cell_type": "code",
      "source": [
        "from sklearn.model_selection import train_test_split\n",
        "X_train, X_test, y_train, y_test = train_test_split(\n",
        "    X, y, test_size=0.2, random_state=42\n",
        ")"
      ],
      "metadata": {
        "id": "TL7-kySwNQDJ"
      },
      "execution_count": 160,
      "outputs": []
    },
    {
      "cell_type": "code",
      "source": [
        "#Handle NaNs in features\n",
        "from sklearn.impute import SimpleImputer\n",
        "imputer = SimpleImputer(strategy='mean')\n",
        "X_train = imputer.fit_transform(X_train)\n",
        "X_test = imputer.transform(X_test)"
      ],
      "metadata": {
        "id": "OqK9HK0-NShF"
      },
      "execution_count": 161,
      "outputs": []
    },
    {
      "cell_type": "markdown",
      "source": [
        "**STEP 4: Standardize**"
      ],
      "metadata": {
        "id": "FQJgD7Yz83Gr"
      }
    },
    {
      "cell_type": "code",
      "source": [
        "from sklearn.preprocessing import StandardScaler\n",
        "scaler = StandardScaler()\n",
        "X_train = scaler.fit_transform(X_train)\n",
        "X_test = scaler.transform(X_test)"
      ],
      "metadata": {
        "id": "KTSzmLVRNU_h"
      },
      "execution_count": 183,
      "outputs": []
    },
    {
      "cell_type": "markdown",
      "source": [
        "**STEP 5:Build MLP**"
      ],
      "metadata": {
        "id": "PWsOS77t9CD4"
      }
    },
    {
      "cell_type": "code",
      "source": [
        "from tensorflow.keras.models import Sequential\n",
        "from tensorflow.keras.layers import Dense, Dropout, Input\n",
        "from tensorflow.keras.activations import swish\n",
        "\n",
        "model = Sequential()\n",
        "model.add(Input(shape=(X_train.shape[1],)))  # Input layer\n",
        "\n",
        "# First hidden layer with tanh activation\n",
        "model.add(Dense(8, activation='tanh'))\n",
        "model.add(Dropout(0.5))  # Dropout after first hidden layer\n",
        "\n",
        "# Second hidden layer with tanh activation\n",
        "model.add(Dense(4, activation='tanh'))\n",
        "model.add(Dropout(0.5))  # Dropout after second hidden layer\n",
        "\n",
        "# Output layer (sigmoid for binary classification)\n",
        "model.add(Dense(1, activation='sigmoid'))"
      ],
      "metadata": {
        "id": "pVe2Hy-8NXjd"
      },
      "execution_count": 184,
      "outputs": []
    },
    {
      "cell_type": "markdown",
      "source": [
        "**STEP 6:Compile the model**"
      ],
      "metadata": {
        "id": "PE1jw-P79Edp"
      }
    },
    {
      "cell_type": "code",
      "source": [
        "#optimizer = Adam(learning_rate=0.0005)\n",
        "model.compile(\n",
        "    #optimizer = optimizer,\n",
        "    optimizer='adam', # Adaptive optimizer\n",
        "    loss='binary_crossentropy',    # Suitable for binary classification\n",
        "    metrics=['accuracy']           # Track accuracy during training\n",
        ")"
      ],
      "metadata": {
        "id": "oEpS3D9yNaTF"
      },
      "execution_count": 185,
      "outputs": []
    },
    {
      "cell_type": "markdown",
      "source": [
        "**STEP 7: Train (fit) the model**"
      ],
      "metadata": {
        "id": "BMPKj_k89JR5"
      }
    },
    {
      "cell_type": "code",
      "source": [
        "history = model.fit(\n",
        "    X_train, y_train,\n",
        "    validation_data=(X_test, y_test),  # Optional, to track test performance\n",
        "    epochs=30,                          # Number of passes over the data\n",
        "    batch_size=32,                      # Size of each mini-batch\n",
        "    verbose=1\n",
        ")"
      ],
      "metadata": {
        "colab": {
          "base_uri": "https://localhost:8080/"
        },
        "id": "Ew2QGf1yNcyE",
        "outputId": "0b6372c1-49de-47bd-81db-4200ded3cd27"
      },
      "execution_count": 186,
      "outputs": [
        {
          "output_type": "stream",
          "name": "stdout",
          "text": [
            "Epoch 1/30\n",
            "\u001b[1m302/302\u001b[0m \u001b[32m━━━━━━━━━━━━━━━━━━━━\u001b[0m\u001b[37m\u001b[0m \u001b[1m5s\u001b[0m 10ms/step - accuracy: 0.5335 - loss: 0.8000 - val_accuracy: 0.7350 - val_loss: 0.5603\n",
            "Epoch 2/30\n",
            "\u001b[1m302/302\u001b[0m \u001b[32m━━━━━━━━━━━━━━━━━━━━\u001b[0m\u001b[37m\u001b[0m \u001b[1m2s\u001b[0m 6ms/step - accuracy: 0.6784 - loss: 0.6037 - val_accuracy: 0.8250 - val_loss: 0.4277\n",
            "Epoch 3/30\n",
            "\u001b[1m302/302\u001b[0m \u001b[32m━━━━━━━━━━━━━━━━━━━━\u001b[0m\u001b[37m\u001b[0m \u001b[1m2s\u001b[0m 6ms/step - accuracy: 0.7646 - loss: 0.4850 - val_accuracy: 0.8602 - val_loss: 0.3387\n",
            "Epoch 4/30\n",
            "\u001b[1m302/302\u001b[0m \u001b[32m━━━━━━━━━━━━━━━━━━━━\u001b[0m\u001b[37m\u001b[0m \u001b[1m2s\u001b[0m 6ms/step - accuracy: 0.8482 - loss: 0.3623 - val_accuracy: 0.8851 - val_loss: 0.2912\n",
            "Epoch 5/30\n",
            "\u001b[1m302/302\u001b[0m \u001b[32m━━━━━━━━━━━━━━━━━━━━\u001b[0m\u001b[37m\u001b[0m \u001b[1m2s\u001b[0m 6ms/step - accuracy: 0.8986 - loss: 0.2716 - val_accuracy: 0.8951 - val_loss: 0.2715\n",
            "Epoch 6/30\n",
            "\u001b[1m302/302\u001b[0m \u001b[32m━━━━━━━━━━━━━━━━━━━━\u001b[0m\u001b[37m\u001b[0m \u001b[1m2s\u001b[0m 6ms/step - accuracy: 0.9168 - loss: 0.2238 - val_accuracy: 0.9063 - val_loss: 0.2587\n",
            "Epoch 7/30\n",
            "\u001b[1m302/302\u001b[0m \u001b[32m━━━━━━━━━━━━━━━━━━━━\u001b[0m\u001b[37m\u001b[0m \u001b[1m3s\u001b[0m 10ms/step - accuracy: 0.9316 - loss: 0.1805 - val_accuracy: 0.9100 - val_loss: 0.2583\n",
            "Epoch 8/30\n",
            "\u001b[1m302/302\u001b[0m \u001b[32m━━━━━━━━━━━━━━━━━━━━\u001b[0m\u001b[37m\u001b[0m \u001b[1m2s\u001b[0m 7ms/step - accuracy: 0.9433 - loss: 0.1499 - val_accuracy: 0.9137 - val_loss: 0.2623\n",
            "Epoch 9/30\n",
            "\u001b[1m302/302\u001b[0m \u001b[32m━━━━━━━━━━━━━━━━━━━━\u001b[0m\u001b[37m\u001b[0m \u001b[1m2s\u001b[0m 6ms/step - accuracy: 0.9441 - loss: 0.1409 - val_accuracy: 0.9158 - val_loss: 0.2733\n",
            "Epoch 10/30\n",
            "\u001b[1m302/302\u001b[0m \u001b[32m━━━━━━━━━━━━━━━━━━━━\u001b[0m\u001b[37m\u001b[0m \u001b[1m2s\u001b[0m 6ms/step - accuracy: 0.9494 - loss: 0.1331 - val_accuracy: 0.9175 - val_loss: 0.2807\n",
            "Epoch 11/30\n",
            "\u001b[1m302/302\u001b[0m \u001b[32m━━━━━━━━━━━━━━━━━━━━\u001b[0m\u001b[37m\u001b[0m \u001b[1m2s\u001b[0m 6ms/step - accuracy: 0.9535 - loss: 0.1190 - val_accuracy: 0.9154 - val_loss: 0.2937\n",
            "Epoch 12/30\n",
            "\u001b[1m302/302\u001b[0m \u001b[32m━━━━━━━━━━━━━━━━━━━━\u001b[0m\u001b[37m\u001b[0m \u001b[1m2s\u001b[0m 6ms/step - accuracy: 0.9515 - loss: 0.1119 - val_accuracy: 0.9183 - val_loss: 0.3030\n",
            "Epoch 13/30\n",
            "\u001b[1m302/302\u001b[0m \u001b[32m━━━━━━━━━━━━━━━━━━━━\u001b[0m\u001b[37m\u001b[0m \u001b[1m2s\u001b[0m 6ms/step - accuracy: 0.9626 - loss: 0.0911 - val_accuracy: 0.9212 - val_loss: 0.3046\n",
            "Epoch 14/30\n",
            "\u001b[1m302/302\u001b[0m \u001b[32m━━━━━━━━━━━━━━━━━━━━\u001b[0m\u001b[37m\u001b[0m \u001b[1m3s\u001b[0m 9ms/step - accuracy: 0.9580 - loss: 0.0965 - val_accuracy: 0.9220 - val_loss: 0.3139\n",
            "Epoch 15/30\n",
            "\u001b[1m302/302\u001b[0m \u001b[32m━━━━━━━━━━━━━━━━━━━━\u001b[0m\u001b[37m\u001b[0m \u001b[1m2s\u001b[0m 6ms/step - accuracy: 0.9655 - loss: 0.0812 - val_accuracy: 0.9224 - val_loss: 0.3218\n",
            "Epoch 16/30\n",
            "\u001b[1m302/302\u001b[0m \u001b[32m━━━━━━━━━━━━━━━━━━━━\u001b[0m\u001b[37m\u001b[0m \u001b[1m2s\u001b[0m 6ms/step - accuracy: 0.9633 - loss: 0.0870 - val_accuracy: 0.9179 - val_loss: 0.3360\n",
            "Epoch 17/30\n",
            "\u001b[1m302/302\u001b[0m \u001b[32m━━━━━━━━━━━━━━━━━━━━\u001b[0m\u001b[37m\u001b[0m \u001b[1m2s\u001b[0m 6ms/step - accuracy: 0.9580 - loss: 0.0954 - val_accuracy: 0.9220 - val_loss: 0.3453\n",
            "Epoch 18/30\n",
            "\u001b[1m302/302\u001b[0m \u001b[32m━━━━━━━━━━━━━━━━━━━━\u001b[0m\u001b[37m\u001b[0m \u001b[1m2s\u001b[0m 6ms/step - accuracy: 0.9628 - loss: 0.0861 - val_accuracy: 0.9187 - val_loss: 0.3498\n",
            "Epoch 19/30\n",
            "\u001b[1m302/302\u001b[0m \u001b[32m━━━━━━━━━━━━━━━━━━━━\u001b[0m\u001b[37m\u001b[0m \u001b[1m2s\u001b[0m 5ms/step - accuracy: 0.9666 - loss: 0.0743 - val_accuracy: 0.9195 - val_loss: 0.3492\n",
            "Epoch 20/30\n",
            "\u001b[1m302/302\u001b[0m \u001b[32m━━━━━━━━━━━━━━━━━━━━\u001b[0m\u001b[37m\u001b[0m \u001b[1m3s\u001b[0m 8ms/step - accuracy: 0.9685 - loss: 0.0693 - val_accuracy: 0.9179 - val_loss: 0.4113\n",
            "Epoch 21/30\n",
            "\u001b[1m302/302\u001b[0m \u001b[32m━━━━━━━━━━━━━━━━━━━━\u001b[0m\u001b[37m\u001b[0m \u001b[1m3s\u001b[0m 10ms/step - accuracy: 0.9644 - loss: 0.0709 - val_accuracy: 0.9208 - val_loss: 0.3993\n",
            "Epoch 22/30\n",
            "\u001b[1m302/302\u001b[0m \u001b[32m━━━━━━━━━━━━━━━━━━━━\u001b[0m\u001b[37m\u001b[0m \u001b[1m2s\u001b[0m 6ms/step - accuracy: 0.9641 - loss: 0.0750 - val_accuracy: 0.9241 - val_loss: 0.3772\n",
            "Epoch 23/30\n",
            "\u001b[1m302/302\u001b[0m \u001b[32m━━━━━━━━━━━━━━━━━━━━\u001b[0m\u001b[37m\u001b[0m \u001b[1m2s\u001b[0m 6ms/step - accuracy: 0.9607 - loss: 0.0725 - val_accuracy: 0.9220 - val_loss: 0.3893\n",
            "Epoch 24/30\n",
            "\u001b[1m302/302\u001b[0m \u001b[32m━━━━━━━━━━━━━━━━━━━━\u001b[0m\u001b[37m\u001b[0m \u001b[1m2s\u001b[0m 6ms/step - accuracy: 0.9695 - loss: 0.0589 - val_accuracy: 0.9270 - val_loss: 0.3766\n",
            "Epoch 25/30\n",
            "\u001b[1m302/302\u001b[0m \u001b[32m━━━━━━━━━━━━━━━━━━━━\u001b[0m\u001b[37m\u001b[0m \u001b[1m2s\u001b[0m 5ms/step - accuracy: 0.9593 - loss: 0.0721 - val_accuracy: 0.9220 - val_loss: 0.4199\n",
            "Epoch 26/30\n",
            "\u001b[1m302/302\u001b[0m \u001b[32m━━━━━━━━━━━━━━━━━━━━\u001b[0m\u001b[37m\u001b[0m \u001b[1m2s\u001b[0m 5ms/step - accuracy: 0.9623 - loss: 0.0779 - val_accuracy: 0.9245 - val_loss: 0.3832\n",
            "Epoch 27/30\n",
            "\u001b[1m302/302\u001b[0m \u001b[32m━━━━━━━━━━━━━━━━━━━━\u001b[0m\u001b[37m\u001b[0m \u001b[1m2s\u001b[0m 8ms/step - accuracy: 0.9621 - loss: 0.0710 - val_accuracy: 0.9278 - val_loss: 0.3741\n",
            "Epoch 28/30\n",
            "\u001b[1m302/302\u001b[0m \u001b[32m━━━━━━━━━━━━━━━━━━━━\u001b[0m\u001b[37m\u001b[0m \u001b[1m3s\u001b[0m 9ms/step - accuracy: 0.9652 - loss: 0.0725 - val_accuracy: 0.9291 - val_loss: 0.3900\n",
            "Epoch 29/30\n",
            "\u001b[1m302/302\u001b[0m \u001b[32m━━━━━━━━━━━━━━━━━━━━\u001b[0m\u001b[37m\u001b[0m \u001b[1m2s\u001b[0m 5ms/step - accuracy: 0.9663 - loss: 0.0605 - val_accuracy: 0.9253 - val_loss: 0.4040\n",
            "Epoch 30/30\n",
            "\u001b[1m302/302\u001b[0m \u001b[32m━━━━━━━━━━━━━━━━━━━━\u001b[0m\u001b[37m\u001b[0m \u001b[1m2s\u001b[0m 5ms/step - accuracy: 0.9706 - loss: 0.0600 - val_accuracy: 0.9274 - val_loss: 0.4103\n"
          ]
        }
      ]
    },
    {
      "cell_type": "code",
      "source": [
        "# Probabilities\n",
        "y_train_prob = model.predict(X_train)\n",
        "y_test_prob = model.predict(X_test)\n",
        "\n",
        "# Convert probabilities to 0/1 labels\n",
        "y_train_pred = (y_train_prob > 0.5).astype(int)\n",
        "y_test_pred = (y_test_prob > 0.5).astype(int)"
      ],
      "metadata": {
        "colab": {
          "base_uri": "https://localhost:8080/"
        },
        "id": "5LAuEvrQNfrA",
        "outputId": "4de03909-3935-4f72-a29e-c6d423c8ff7e"
      },
      "execution_count": 187,
      "outputs": [
        {
          "output_type": "stream",
          "name": "stdout",
          "text": [
            "\u001b[1m302/302\u001b[0m \u001b[32m━━━━━━━━━━━━━━━━━━━━\u001b[0m\u001b[37m\u001b[0m \u001b[1m1s\u001b[0m 2ms/step\n",
            "\u001b[1m76/76\u001b[0m \u001b[32m━━━━━━━━━━━━━━━━━━━━\u001b[0m\u001b[37m\u001b[0m \u001b[1m0s\u001b[0m 2ms/step\n"
          ]
        }
      ]
    },
    {
      "cell_type": "markdown",
      "source": [
        "**STEP 8: Evaluate the Model**"
      ],
      "metadata": {
        "id": "1o5OzlMH9N6S"
      }
    },
    {
      "cell_type": "code",
      "source": [
        "from sklearn.metrics import f1_score, roc_auc_score, accuracy_score, confusion_matrix, classification_report\n",
        "\n",
        "# F1 Scores\n",
        "f1_train = f1_score(y_train, y_train_pred)\n",
        "f1_test = f1_score(y_test, y_test_pred)\n",
        "\n",
        "# ROC AUC Scores\n",
        "roc_train = roc_auc_score(y_train, y_train_pred)\n",
        "roc_test = roc_auc_score(y_test, y_test_pred)\n",
        "\n",
        "print(\"\\n--- Performance Comparison (Train vs. Test) ---\")\n",
        "print(f\"F1 Score (Training): {f1_train:.4f}\")\n",
        "print(f\"F1 Score (Test): {f1_test:.4f}\")\n",
        "print(f\"ROC AUC Score (Training): {roc_train:.4f}\")\n",
        "print(f\"ROC AUC Score (Test): {roc_test:.4f}\")\n",
        "\n",
        "# Accuracy, Confusion Matrix, Classification Report\n",
        "print(\"\\nAccuracy (Test):\", accuracy_score(y_test, y_test_pred))\n",
        "print(\"\\nConfusion Matrix:\\n\", confusion_matrix(y_test, y_test_pred))\n",
        "print(\"\\nClassification Report:\\n\", classification_report(y_test, y_test_pred))"
      ],
      "metadata": {
        "colab": {
          "base_uri": "https://localhost:8080/"
        },
        "id": "25a-ajHuNix-",
        "outputId": "52903bc2-d029-4fea-ce4b-a3443fa249bd"
      },
      "execution_count": 189,
      "outputs": [
        {
          "output_type": "stream",
          "name": "stdout",
          "text": [
            "\n",
            "--- Performance Comparison (Train vs. Test) ---\n",
            "F1 Score (Training): 0.9997\n",
            "F1 Score (Test): 0.9246\n",
            "ROC AUC Score (Training): 0.9997\n",
            "ROC AUC Score (Test): 0.9278\n",
            "\n",
            "Accuracy (Test): 0.9274160099543758\n",
            "\n",
            "Confusion Matrix:\n",
            " [[1163  101]\n",
            " [  74 1073]]\n",
            "\n",
            "Classification Report:\n",
            "               precision    recall  f1-score   support\n",
            "\n",
            "           0       0.94      0.92      0.93      1264\n",
            "           1       0.91      0.94      0.92      1147\n",
            "\n",
            "    accuracy                           0.93      2411\n",
            "   macro avg       0.93      0.93      0.93      2411\n",
            "weighted avg       0.93      0.93      0.93      2411\n",
            "\n"
          ]
        }
      ]
    }
  ]
}