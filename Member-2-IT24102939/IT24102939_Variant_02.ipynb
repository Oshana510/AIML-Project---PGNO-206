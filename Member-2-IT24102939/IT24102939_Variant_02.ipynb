{
  "cells": [
    {
      "cell_type": "code",
      "execution_count": 33,
      "metadata": {
        "colab": {
          "base_uri": "https://localhost:8080/"
        },
        "id": "Q7dy15eUtCJp",
        "outputId": "be8dad3f-487a-4d3a-9d85-6dbafaf0226c"
      },
      "outputs": [
        {
          "output_type": "stream",
          "name": "stdout",
          "text": [
            "Drive already mounted at /content/drive; to attempt to forcibly remount, call drive.mount(\"/content/drive\", force_remount=True).\n"
          ]
        }
      ],
      "source": [
        "from google.colab import drive\n",
        "drive.mount('/content/drive')"
      ]
    },
    {
      "cell_type": "code",
      "execution_count": 34,
      "metadata": {
        "id": "-1bGxPTWtQHA"
      },
      "outputs": [],
      "source": [
        "import pandas as pd\n",
        "import numpy as np\n",
        "import joblib\n",
        "import matplotlib.pyplot as plt\n",
        "import seaborn as sns\n",
        "from sklearn.impute import SimpleImputer\n",
        "from sklearn.preprocessing import StandardScaler, LabelEncoder\n",
        "from sklearn.model_selection import train_test_split, GridSearchCV, cross_val_score\n",
        "from sklearn.neighbors import KNeighborsClassifier\n",
        "from sklearn.metrics import (\n",
        "    accuracy_score, precision_score, recall_score,\n",
        "    f1_score, roc_auc_score, confusion_matrix\n",
        ")"
      ]
    },
    {
      "cell_type": "markdown",
      "metadata": {
        "id": "ct_1BFemtk_t"
      },
      "source": [
        "# **STEP 1: Load and Split Dataset**"
      ]
    },
    {
      "cell_type": "code",
      "source": [
        "df = pd.read_csv(\"/content/df_with_stockcode_rfm1.csv\")"
      ],
      "metadata": {
        "id": "WkL5AEBHKtKY"
      },
      "execution_count": 35,
      "outputs": []
    },
    {
      "cell_type": "code",
      "execution_count": 36,
      "metadata": {
        "colab": {
          "base_uri": "https://localhost:8080/",
          "height": 235
        },
        "id": "8SwgTsjwtr80",
        "outputId": "3864f2f4-6055-4f72-9afe-a9e870d3e0b2"
      },
      "outputs": [
        {
          "output_type": "display_data",
          "data": {
            "text/plain": [
              "   UnitPrice  QuantityAbsolute  TotalAmount      Year     Month       Day  \\\n",
              "0  -0.787370         -0.009966    -0.468966  0.269665  1.306861 -0.678858   \n",
              "1  -0.265540          1.650565     1.793874  0.269665 -1.001465  0.480271   \n",
              "2  -0.787370          2.204075     0.963211  0.269665 -0.135843 -0.910684   \n",
              "3   0.281438         -0.840232    -0.762562  0.269665 -0.424384 -1.606161   \n",
              "4  -1.309200          0.543544    -0.824146  0.269665  0.441239 -0.215206   \n",
              "\n",
              "   DayOfWeek      Hour StockCode  Quantity  ... wreath  writing  yellow  \\\n",
              "0   0.840102 -1.216770    85049A         4  ...    0.0      0.0     0.0   \n",
              "1  -0.817183 -1.624390    85099B        10  ...    0.0      0.0     0.0   \n",
              "2   0.287673 -1.216770     21993        12  ...    0.0      0.0     0.0   \n",
              "3  -0.264755  0.821327     22699        -1  ...    0.0      0.0     0.0   \n",
              "4  -0.817183 -0.401531     23002         6  ...    0.0      0.0     0.0   \n",
              "\n",
              "   yellowblue  youre  yuletide  zinc  Recency  Frequency  Monetary  \n",
              "0         0.0    0.0       0.0   0.0      1.0        6.0     63.95  \n",
              "1         0.0    0.0       0.0   0.0     85.0        4.0     70.25  \n",
              "2         0.0    0.0       0.0   0.0    156.0        1.0     15.00  \n",
              "3         0.0    0.0       0.0   0.0    191.0        2.0     24.05  \n",
              "4         0.0    0.0       0.0   0.0     33.0        2.0     20.04  \n",
              "\n",
              "[5 rows x 1557 columns]"
            ],
            "text/html": [
              "\n",
              "  <div id=\"df-c9a202bc-271b-45a5-aec1-24a19b02cd01\" class=\"colab-df-container\">\n",
              "    <div>\n",
              "<style scoped>\n",
              "    .dataframe tbody tr th:only-of-type {\n",
              "        vertical-align: middle;\n",
              "    }\n",
              "\n",
              "    .dataframe tbody tr th {\n",
              "        vertical-align: top;\n",
              "    }\n",
              "\n",
              "    .dataframe thead th {\n",
              "        text-align: right;\n",
              "    }\n",
              "</style>\n",
              "<table border=\"1\" class=\"dataframe\">\n",
              "  <thead>\n",
              "    <tr style=\"text-align: right;\">\n",
              "      <th></th>\n",
              "      <th>UnitPrice</th>\n",
              "      <th>QuantityAbsolute</th>\n",
              "      <th>TotalAmount</th>\n",
              "      <th>Year</th>\n",
              "      <th>Month</th>\n",
              "      <th>Day</th>\n",
              "      <th>DayOfWeek</th>\n",
              "      <th>Hour</th>\n",
              "      <th>StockCode</th>\n",
              "      <th>Quantity</th>\n",
              "      <th>...</th>\n",
              "      <th>wreath</th>\n",
              "      <th>writing</th>\n",
              "      <th>yellow</th>\n",
              "      <th>yellowblue</th>\n",
              "      <th>youre</th>\n",
              "      <th>yuletide</th>\n",
              "      <th>zinc</th>\n",
              "      <th>Recency</th>\n",
              "      <th>Frequency</th>\n",
              "      <th>Monetary</th>\n",
              "    </tr>\n",
              "  </thead>\n",
              "  <tbody>\n",
              "    <tr>\n",
              "      <th>0</th>\n",
              "      <td>-0.787370</td>\n",
              "      <td>-0.009966</td>\n",
              "      <td>-0.468966</td>\n",
              "      <td>0.269665</td>\n",
              "      <td>1.306861</td>\n",
              "      <td>-0.678858</td>\n",
              "      <td>0.840102</td>\n",
              "      <td>-1.216770</td>\n",
              "      <td>85049A</td>\n",
              "      <td>4</td>\n",
              "      <td>...</td>\n",
              "      <td>0.0</td>\n",
              "      <td>0.0</td>\n",
              "      <td>0.0</td>\n",
              "      <td>0.0</td>\n",
              "      <td>0.0</td>\n",
              "      <td>0.0</td>\n",
              "      <td>0.0</td>\n",
              "      <td>1.0</td>\n",
              "      <td>6.0</td>\n",
              "      <td>63.95</td>\n",
              "    </tr>\n",
              "    <tr>\n",
              "      <th>1</th>\n",
              "      <td>-0.265540</td>\n",
              "      <td>1.650565</td>\n",
              "      <td>1.793874</td>\n",
              "      <td>0.269665</td>\n",
              "      <td>-1.001465</td>\n",
              "      <td>0.480271</td>\n",
              "      <td>-0.817183</td>\n",
              "      <td>-1.624390</td>\n",
              "      <td>85099B</td>\n",
              "      <td>10</td>\n",
              "      <td>...</td>\n",
              "      <td>0.0</td>\n",
              "      <td>0.0</td>\n",
              "      <td>0.0</td>\n",
              "      <td>0.0</td>\n",
              "      <td>0.0</td>\n",
              "      <td>0.0</td>\n",
              "      <td>0.0</td>\n",
              "      <td>85.0</td>\n",
              "      <td>4.0</td>\n",
              "      <td>70.25</td>\n",
              "    </tr>\n",
              "    <tr>\n",
              "      <th>2</th>\n",
              "      <td>-0.787370</td>\n",
              "      <td>2.204075</td>\n",
              "      <td>0.963211</td>\n",
              "      <td>0.269665</td>\n",
              "      <td>-0.135843</td>\n",
              "      <td>-0.910684</td>\n",
              "      <td>0.287673</td>\n",
              "      <td>-1.216770</td>\n",
              "      <td>21993</td>\n",
              "      <td>12</td>\n",
              "      <td>...</td>\n",
              "      <td>0.0</td>\n",
              "      <td>0.0</td>\n",
              "      <td>0.0</td>\n",
              "      <td>0.0</td>\n",
              "      <td>0.0</td>\n",
              "      <td>0.0</td>\n",
              "      <td>0.0</td>\n",
              "      <td>156.0</td>\n",
              "      <td>1.0</td>\n",
              "      <td>15.00</td>\n",
              "    </tr>\n",
              "    <tr>\n",
              "      <th>3</th>\n",
              "      <td>0.281438</td>\n",
              "      <td>-0.840232</td>\n",
              "      <td>-0.762562</td>\n",
              "      <td>0.269665</td>\n",
              "      <td>-0.424384</td>\n",
              "      <td>-1.606161</td>\n",
              "      <td>-0.264755</td>\n",
              "      <td>0.821327</td>\n",
              "      <td>22699</td>\n",
              "      <td>-1</td>\n",
              "      <td>...</td>\n",
              "      <td>0.0</td>\n",
              "      <td>0.0</td>\n",
              "      <td>0.0</td>\n",
              "      <td>0.0</td>\n",
              "      <td>0.0</td>\n",
              "      <td>0.0</td>\n",
              "      <td>0.0</td>\n",
              "      <td>191.0</td>\n",
              "      <td>2.0</td>\n",
              "      <td>24.05</td>\n",
              "    </tr>\n",
              "    <tr>\n",
              "      <th>4</th>\n",
              "      <td>-1.309200</td>\n",
              "      <td>0.543544</td>\n",
              "      <td>-0.824146</td>\n",
              "      <td>0.269665</td>\n",
              "      <td>0.441239</td>\n",
              "      <td>-0.215206</td>\n",
              "      <td>-0.817183</td>\n",
              "      <td>-0.401531</td>\n",
              "      <td>23002</td>\n",
              "      <td>6</td>\n",
              "      <td>...</td>\n",
              "      <td>0.0</td>\n",
              "      <td>0.0</td>\n",
              "      <td>0.0</td>\n",
              "      <td>0.0</td>\n",
              "      <td>0.0</td>\n",
              "      <td>0.0</td>\n",
              "      <td>0.0</td>\n",
              "      <td>33.0</td>\n",
              "      <td>2.0</td>\n",
              "      <td>20.04</td>\n",
              "    </tr>\n",
              "  </tbody>\n",
              "</table>\n",
              "<p>5 rows × 1557 columns</p>\n",
              "</div>\n",
              "    <div class=\"colab-df-buttons\">\n",
              "\n",
              "  <div class=\"colab-df-container\">\n",
              "    <button class=\"colab-df-convert\" onclick=\"convertToInteractive('df-c9a202bc-271b-45a5-aec1-24a19b02cd01')\"\n",
              "            title=\"Convert this dataframe to an interactive table.\"\n",
              "            style=\"display:none;\">\n",
              "\n",
              "  <svg xmlns=\"http://www.w3.org/2000/svg\" height=\"24px\" viewBox=\"0 -960 960 960\">\n",
              "    <path d=\"M120-120v-720h720v720H120Zm60-500h600v-160H180v160Zm220 220h160v-160H400v160Zm0 220h160v-160H400v160ZM180-400h160v-160H180v160Zm440 0h160v-160H620v160ZM180-180h160v-160H180v160Zm440 0h160v-160H620v160Z\"/>\n",
              "  </svg>\n",
              "    </button>\n",
              "\n",
              "  <style>\n",
              "    .colab-df-container {\n",
              "      display:flex;\n",
              "      gap: 12px;\n",
              "    }\n",
              "\n",
              "    .colab-df-convert {\n",
              "      background-color: #E8F0FE;\n",
              "      border: none;\n",
              "      border-radius: 50%;\n",
              "      cursor: pointer;\n",
              "      display: none;\n",
              "      fill: #1967D2;\n",
              "      height: 32px;\n",
              "      padding: 0 0 0 0;\n",
              "      width: 32px;\n",
              "    }\n",
              "\n",
              "    .colab-df-convert:hover {\n",
              "      background-color: #E2EBFA;\n",
              "      box-shadow: 0px 1px 2px rgba(60, 64, 67, 0.3), 0px 1px 3px 1px rgba(60, 64, 67, 0.15);\n",
              "      fill: #174EA6;\n",
              "    }\n",
              "\n",
              "    .colab-df-buttons div {\n",
              "      margin-bottom: 4px;\n",
              "    }\n",
              "\n",
              "    [theme=dark] .colab-df-convert {\n",
              "      background-color: #3B4455;\n",
              "      fill: #D2E3FC;\n",
              "    }\n",
              "\n",
              "    [theme=dark] .colab-df-convert:hover {\n",
              "      background-color: #434B5C;\n",
              "      box-shadow: 0px 1px 3px 1px rgba(0, 0, 0, 0.15);\n",
              "      filter: drop-shadow(0px 1px 2px rgba(0, 0, 0, 0.3));\n",
              "      fill: #FFFFFF;\n",
              "    }\n",
              "  </style>\n",
              "\n",
              "    <script>\n",
              "      const buttonEl =\n",
              "        document.querySelector('#df-c9a202bc-271b-45a5-aec1-24a19b02cd01 button.colab-df-convert');\n",
              "      buttonEl.style.display =\n",
              "        google.colab.kernel.accessAllowed ? 'block' : 'none';\n",
              "\n",
              "      async function convertToInteractive(key) {\n",
              "        const element = document.querySelector('#df-c9a202bc-271b-45a5-aec1-24a19b02cd01');\n",
              "        const dataTable =\n",
              "          await google.colab.kernel.invokeFunction('convertToInteractive',\n",
              "                                                    [key], {});\n",
              "        if (!dataTable) return;\n",
              "\n",
              "        const docLinkHtml = 'Like what you see? Visit the ' +\n",
              "          '<a target=\"_blank\" href=https://colab.research.google.com/notebooks/data_table.ipynb>data table notebook</a>'\n",
              "          + ' to learn more about interactive tables.';\n",
              "        element.innerHTML = '';\n",
              "        dataTable['output_type'] = 'display_data';\n",
              "        await google.colab.output.renderOutput(dataTable, element);\n",
              "        const docLink = document.createElement('div');\n",
              "        docLink.innerHTML = docLinkHtml;\n",
              "        element.appendChild(docLink);\n",
              "      }\n",
              "    </script>\n",
              "  </div>\n",
              "\n",
              "\n",
              "    <div id=\"df-a5f4e112-ad3d-44e9-9f68-6ec523ba59a6\">\n",
              "      <button class=\"colab-df-quickchart\" onclick=\"quickchart('df-a5f4e112-ad3d-44e9-9f68-6ec523ba59a6')\"\n",
              "                title=\"Suggest charts\"\n",
              "                style=\"display:none;\">\n",
              "\n",
              "<svg xmlns=\"http://www.w3.org/2000/svg\" height=\"24px\"viewBox=\"0 0 24 24\"\n",
              "     width=\"24px\">\n",
              "    <g>\n",
              "        <path d=\"M19 3H5c-1.1 0-2 .9-2 2v14c0 1.1.9 2 2 2h14c1.1 0 2-.9 2-2V5c0-1.1-.9-2-2-2zM9 17H7v-7h2v7zm4 0h-2V7h2v10zm4 0h-2v-4h2v4z\"/>\n",
              "    </g>\n",
              "</svg>\n",
              "      </button>\n",
              "\n",
              "<style>\n",
              "  .colab-df-quickchart {\n",
              "      --bg-color: #E8F0FE;\n",
              "      --fill-color: #1967D2;\n",
              "      --hover-bg-color: #E2EBFA;\n",
              "      --hover-fill-color: #174EA6;\n",
              "      --disabled-fill-color: #AAA;\n",
              "      --disabled-bg-color: #DDD;\n",
              "  }\n",
              "\n",
              "  [theme=dark] .colab-df-quickchart {\n",
              "      --bg-color: #3B4455;\n",
              "      --fill-color: #D2E3FC;\n",
              "      --hover-bg-color: #434B5C;\n",
              "      --hover-fill-color: #FFFFFF;\n",
              "      --disabled-bg-color: #3B4455;\n",
              "      --disabled-fill-color: #666;\n",
              "  }\n",
              "\n",
              "  .colab-df-quickchart {\n",
              "    background-color: var(--bg-color);\n",
              "    border: none;\n",
              "    border-radius: 50%;\n",
              "    cursor: pointer;\n",
              "    display: none;\n",
              "    fill: var(--fill-color);\n",
              "    height: 32px;\n",
              "    padding: 0;\n",
              "    width: 32px;\n",
              "  }\n",
              "\n",
              "  .colab-df-quickchart:hover {\n",
              "    background-color: var(--hover-bg-color);\n",
              "    box-shadow: 0 1px 2px rgba(60, 64, 67, 0.3), 0 1px 3px 1px rgba(60, 64, 67, 0.15);\n",
              "    fill: var(--button-hover-fill-color);\n",
              "  }\n",
              "\n",
              "  .colab-df-quickchart-complete:disabled,\n",
              "  .colab-df-quickchart-complete:disabled:hover {\n",
              "    background-color: var(--disabled-bg-color);\n",
              "    fill: var(--disabled-fill-color);\n",
              "    box-shadow: none;\n",
              "  }\n",
              "\n",
              "  .colab-df-spinner {\n",
              "    border: 2px solid var(--fill-color);\n",
              "    border-color: transparent;\n",
              "    border-bottom-color: var(--fill-color);\n",
              "    animation:\n",
              "      spin 1s steps(1) infinite;\n",
              "  }\n",
              "\n",
              "  @keyframes spin {\n",
              "    0% {\n",
              "      border-color: transparent;\n",
              "      border-bottom-color: var(--fill-color);\n",
              "      border-left-color: var(--fill-color);\n",
              "    }\n",
              "    20% {\n",
              "      border-color: transparent;\n",
              "      border-left-color: var(--fill-color);\n",
              "      border-top-color: var(--fill-color);\n",
              "    }\n",
              "    30% {\n",
              "      border-color: transparent;\n",
              "      border-left-color: var(--fill-color);\n",
              "      border-top-color: var(--fill-color);\n",
              "      border-right-color: var(--fill-color);\n",
              "    }\n",
              "    40% {\n",
              "      border-color: transparent;\n",
              "      border-right-color: var(--fill-color);\n",
              "      border-top-color: var(--fill-color);\n",
              "    }\n",
              "    60% {\n",
              "      border-color: transparent;\n",
              "      border-right-color: var(--fill-color);\n",
              "    }\n",
              "    80% {\n",
              "      border-color: transparent;\n",
              "      border-right-color: var(--fill-color);\n",
              "      border-bottom-color: var(--fill-color);\n",
              "    }\n",
              "    90% {\n",
              "      border-color: transparent;\n",
              "      border-bottom-color: var(--fill-color);\n",
              "    }\n",
              "  }\n",
              "</style>\n",
              "\n",
              "      <script>\n",
              "        async function quickchart(key) {\n",
              "          const quickchartButtonEl =\n",
              "            document.querySelector('#' + key + ' button');\n",
              "          quickchartButtonEl.disabled = true;  // To prevent multiple clicks.\n",
              "          quickchartButtonEl.classList.add('colab-df-spinner');\n",
              "          try {\n",
              "            const charts = await google.colab.kernel.invokeFunction(\n",
              "                'suggestCharts', [key], {});\n",
              "          } catch (error) {\n",
              "            console.error('Error during call to suggestCharts:', error);\n",
              "          }\n",
              "          quickchartButtonEl.classList.remove('colab-df-spinner');\n",
              "          quickchartButtonEl.classList.add('colab-df-quickchart-complete');\n",
              "        }\n",
              "        (() => {\n",
              "          let quickchartButtonEl =\n",
              "            document.querySelector('#df-a5f4e112-ad3d-44e9-9f68-6ec523ba59a6 button');\n",
              "          quickchartButtonEl.style.display =\n",
              "            google.colab.kernel.accessAllowed ? 'block' : 'none';\n",
              "        })();\n",
              "      </script>\n",
              "    </div>\n",
              "\n",
              "    </div>\n",
              "  </div>\n"
            ],
            "application/vnd.google.colaboratory.intrinsic+json": {
              "type": "dataframe"
            }
          },
          "metadata": {}
        }
      ],
      "source": [
        "#Display First Five Rows\n",
        "display(df.head())"
      ]
    },
    {
      "cell_type": "code",
      "execution_count": 37,
      "metadata": {
        "colab": {
          "base_uri": "https://localhost:8080/",
          "height": 128
        },
        "id": "Bq4fn8pFtvLj",
        "outputId": "c706fad2-6baf-4f5f-e92e-8d69c3e3e032"
      },
      "outputs": [
        {
          "output_type": "stream",
          "name": "stdout",
          "text": [
            "<class 'pandas.core.frame.DataFrame'>\n",
            "RangeIndex: 6748 entries, 0 to 6747\n",
            "Columns: 1557 entries, UnitPrice to Monetary\n",
            "dtypes: float64(1521), int64(34), object(2)\n",
            "memory usage: 80.2+ MB\n"
          ]
        },
        {
          "output_type": "display_data",
          "data": {
            "text/plain": [
              "None"
            ]
          },
          "metadata": {}
        }
      ],
      "source": [
        "display(df.info())"
      ]
    },
    {
      "cell_type": "code",
      "execution_count": 38,
      "metadata": {
        "colab": {
          "base_uri": "https://localhost:8080/"
        },
        "id": "7lk9ttV3t0HT",
        "outputId": "bb2b44a6-702e-4e62-9515-245649221668"
      },
      "outputs": [
        {
          "output_type": "stream",
          "name": "stdout",
          "text": [
            "Shapes after split:\n",
            "X_train: (5398, 1556)\n",
            "X_test:  (1350, 1556)\n",
            "y_train: (5398,)\n",
            "y_test:  (1350,)\n",
            "\n"
          ]
        }
      ],
      "source": [
        "# Separate features and target\n",
        "X = df.drop(columns=['IsCancelled'])\n",
        "y = df['IsCancelled']\n",
        "\n",
        "# Encode object (categorical) columns\n",
        "for col in X.select_dtypes(include=['object']).columns:\n",
        "    X[col] = LabelEncoder().fit_transform(X[col])\n",
        "\n",
        "# Optional: scale features to improve KNN performance\n",
        "scaler = StandardScaler()\n",
        "X_scaled = scaler.fit_transform(X)\n",
        "\n",
        "# Split data 80% train and 20% test\n",
        "X_train, X_test, y_train, y_test = train_test_split(\n",
        "    X_scaled, y, test_size=0.2, random_state=42, stratify=y\n",
        ")\n",
        "\n",
        "# Print shapes to verify\n",
        "print(\"Shapes after split:\")\n",
        "print(\"X_train:\", X_train.shape)\n",
        "print(\"X_test: \", X_test.shape)\n",
        "print(\"y_train:\", y_train.shape)\n",
        "print(\"y_test: \", y_test.shape)\n",
        "print()"
      ]
    },
    {
      "cell_type": "markdown",
      "metadata": {
        "id": "2wyVYHE8t4gZ"
      },
      "source": [
        "# **STEP 2: Check Correct Predictions for Each K**"
      ]
    },
    {
      "cell_type": "code",
      "execution_count": 39,
      "metadata": {
        "colab": {
          "base_uri": "https://localhost:8080/"
        },
        "id": "EpYL5qxPq0Iq",
        "outputId": "13dad7d1-4ad4-4887-9682-aa83264d70cb"
      },
      "outputs": [
        {
          "output_type": "stream",
          "name": "stdout",
          "text": [
            "K | Train Accuracy | Test Accuracy | Correct Predictions\n",
            " 5 |        1.0000 |       0.6985 |        943\n",
            " 6 |        1.0000 |       0.6963 |        940\n",
            " 7 |        1.0000 |       0.7000 |        945\n",
            " 8 |        1.0000 |       0.7081 |        956\n",
            " 9 |        1.0000 |       0.7141 |        964\n",
            "10 |        1.0000 |       0.7044 |        951\n",
            "11 |        1.0000 |       0.7044 |        951\n",
            "12 |        1.0000 |       0.7067 |        954\n",
            "13 |        1.0000 |       0.7119 |        961\n",
            "14 |        1.0000 |       0.7156 |        966\n",
            "15 |        1.0000 |       0.7126 |        962\n",
            "16 |        1.0000 |       0.7156 |        966\n",
            "17 |        1.0000 |       0.7193 |        971\n",
            "18 |        1.0000 |       0.7207 |        973\n",
            "19 |        1.0000 |       0.7178 |        969\n",
            "20 |        1.0000 |       0.7215 |        974\n",
            "21 |        1.0000 |       0.7207 |        973\n",
            "22 |        1.0000 |       0.7281 |        983\n",
            "23 |        1.0000 |       0.7215 |        974\n",
            "24 |        1.0000 |       0.7252 |        979\n",
            "25 |        1.0000 |       0.7215 |        974\n",
            "26 |        1.0000 |       0.7237 |        977\n",
            "27 |        1.0000 |       0.7296 |        985\n",
            "28 |        1.0000 |       0.7304 |        986\n",
            "29 |        1.0000 |       0.7356 |        993\n",
            "30 |        1.0000 |       0.7378 |        996\n",
            "31 |        1.0000 |       0.7378 |        996\n",
            "32 |        1.0000 |       0.7385 |        997\n",
            "33 |        1.0000 |       0.7341 |        991\n",
            "34 |        1.0000 |       0.7341 |        991\n",
            "35 |        1.0000 |       0.7348 |        992\n",
            "36 |        1.0000 |       0.7363 |        994\n",
            "37 |        1.0000 |       0.7385 |        997\n",
            "38 |        1.0000 |       0.7370 |        995\n",
            "39 |        1.0000 |       0.7370 |        995\n",
            "40 |        1.0000 |       0.7348 |        992\n",
            "41 |        1.0000 |       0.7348 |        992\n",
            "42 |        1.0000 |       0.7333 |        990\n",
            "43 |        1.0000 |       0.7289 |        984\n",
            "44 |        1.0000 |       0.7326 |        989\n",
            "45 |        1.0000 |       0.7267 |        981\n",
            "46 |        1.0000 |       0.7274 |        982\n",
            "47 |        1.0000 |       0.7267 |        981\n",
            "48 |        1.0000 |       0.7296 |        985\n",
            "49 |        1.0000 |       0.7259 |        980\n",
            "\n",
            "Best K found (by max correct predictions): 32\n",
            "Correct predictions = 997 / 1350\n"
          ]
        }
      ],
      "source": [
        "k_values = range(5,50)\n",
        "correct_sum = []\n",
        "train_acc_list = []\n",
        "test_acc_list = []\n",
        "\n",
        "# Impute missing values using the mean strategy\n",
        "imputer = SimpleImputer(strategy='mean')\n",
        "X_train_imputed = imputer.fit_transform(X_train)\n",
        "X_test_imputed = imputer.transform(X_test)\n",
        "\n",
        "for k in k_values:\n",
        "    model = KNeighborsClassifier(n_neighbors=k, metric='euclidean', weights='distance')\n",
        "    model.fit(X_train_imputed, y_train)\n",
        "\n",
        "    # Predictions\n",
        "    train_pred = model.predict(X_train_imputed)\n",
        "    test_pred = model.predict(X_test_imputed)\n",
        "\n",
        "    # Accuracy\n",
        "    train_acc = accuracy_score(y_train, train_pred)\n",
        "    test_acc = accuracy_score(y_test, test_pred)\n",
        "\n",
        "    train_acc_list.append(train_acc)\n",
        "    test_acc_list.append(test_acc)\n",
        "\n",
        "    # Correct predictions on test set\n",
        "    correct = int(np.sum(test_pred == y_test))\n",
        "    correct_sum.append(correct)\n",
        "\n",
        "# Show results\n",
        "print(\"K | Train Accuracy | Test Accuracy | Correct Predictions\")\n",
        "for k, tr, te, c in zip(k_values, train_acc_list, test_acc_list, correct_sum):\n",
        "    print(f\"{k:2d} | {tr:13.4f} | {te:12.4f} | {c:10d}\")\n",
        "\n",
        "# Automatically find best K based on max correct predictions\n",
        "best_k_index = int(np.argmax(correct_sum))\n",
        "best_k = k_values[best_k_index]\n",
        "best_correct = correct_sum[best_k_index]\n",
        "best_train_acc = train_acc_list[best_k_index]\n",
        "best_test_acc = test_acc_list[best_k_index]\n",
        "\n",
        "print()\n",
        "print(f\"Best K found (by max correct predictions): {best_k}\")\n",
        "print(f\"Correct predictions = {best_correct} / {len(y_test)}\")\n",
        "\n"
      ]
    },
    {
      "cell_type": "code",
      "execution_count": 40,
      "metadata": {
        "colab": {
          "base_uri": "https://localhost:8080/",
          "height": 407
        },
        "id": "q9CVDVujuVrl",
        "outputId": "264d30ec-29b6-4e77-a7d4-f02ae95e0b27"
      },
      "outputs": [
        {
          "output_type": "display_data",
          "data": {
            "text/plain": [
              "<Figure size 900x400 with 1 Axes>"
            ],
            "image/png": "[encoded data removed]"
          },
          "metadata": {}
        }
      ],
      "source": [
        "# Plot correct predictions vs K\n",
        "plt.figure(figsize=(9,4))\n",
        "plt.plot(list(k_values), correct_sum, marker='o')\n",
        "plt.title('Number of Correct Predictions vs K')\n",
        "plt.xlabel('Number of Neighbors (K)')\n",
        "plt.ylabel('Correct Predictions')\n",
        "plt.grid(True)\n",
        "plt.scatter([best_k], [best_correct], color='red', s=80, label=f'Best K = {best_k}')\n",
        "plt.legend()\n",
        "plt.tight_layout()\n",
        "plt.show()\n"
      ]
    },
    {
      "cell_type": "markdown",
      "metadata": {
        "id": "Du4blYeJ9vc3"
      },
      "source": [
        "# **STEP 3: Manual KNN Training**"
      ]
    },
    {
      "cell_type": "code",
      "execution_count": 41,
      "metadata": {
        "colab": {
          "base_uri": "https://localhost:8080/"
        },
        "id": "ISQXis-49xFe",
        "outputId": "27f67918-0b95-4e38-b3b2-f9e6bb3d2b77"
      },
      "outputs": [
        {
          "output_type": "stream",
          "name": "stdout",
          "text": [
            "\n",
            " Manual K = 32 Evaluation Metrics:\n",
            "Training Accuracy: 1.0000\n",
            "Testing Accuracy:  0.7385\n",
            "Training F1 Score: 1.0000\n",
            "Testing F1 Score:  0.7291\n",
            "Precision: 0.7058\n",
            "Recall: 0.7540\n",
            "ROC-AUC: 0.7395\n",
            "Confusion Matrix:\n",
            "[[522 198]\n",
            " [155 475]]\n"
          ]
        }
      ],
      "source": [
        "k_manual = 32\n",
        "\n",
        "manual_knn = KNeighborsClassifier(n_neighbors=k_manual, metric='euclidean', weights='distance')\n",
        "\n",
        "# Train the model\n",
        "manual_knn.fit(X_train_imputed, y_train)\n",
        "\n",
        "# Predict on training and testing data\n",
        "y_manual_train_pred = manual_knn.predict(X_train_imputed)\n",
        "y_manual_pred = manual_knn.predict(X_test_imputed)\n",
        "\n",
        "# Calculate metrics\n",
        "manual_train_acc = accuracy_score(y_train, y_manual_train_pred)\n",
        "manual_test_acc = accuracy_score(y_test, y_manual_pred)\n",
        "manual_train_f1 = f1_score(y_train, y_manual_train_pred)\n",
        "manual_test_f1 = f1_score(y_test, y_manual_pred)\n",
        "manual_precision = precision_score(y_test, y_manual_pred)\n",
        "manual_recall = recall_score(y_test, y_manual_pred)\n",
        "manual_roc = roc_auc_score(y_test, y_manual_pred)\n",
        "manual_cm = confusion_matrix(y_test, y_manual_pred)\n",
        "\n",
        "# Print results\n",
        "print(f\"\\n Manual K = {k_manual} Evaluation Metrics:\")\n",
        "print(f\"Training Accuracy: {manual_train_acc:.4f}\")\n",
        "print(f\"Testing Accuracy:  {manual_test_acc:.4f}\")\n",
        "print(f\"Training F1 Score: {manual_train_f1:.4f}\")\n",
        "print(f\"Testing F1 Score:  {manual_test_f1:.4f}\")\n",
        "print(f\"Precision: {manual_precision:.4f}\")\n",
        "print(f\"Recall: {manual_recall:.4f}\")\n",
        "print(f\"ROC-AUC: {manual_roc:.4f}\")\n",
        "print(\"Confusion Matrix:\")\n",
        "print(manual_cm)\n"
      ]
    },
    {
      "cell_type": "markdown",
      "metadata": {
        "id": "BUY9WbxPa6gt"
      },
      "source": [
        "# **STEP 4: Automatic Best KNN (GridSearchCV)**"
      ]
    },
    {
      "cell_type": "code",
      "execution_count": 42,
      "metadata": {
        "id": "UveLlSHGa7uM",
        "colab": {
          "base_uri": "https://localhost:8080/"
        },
        "outputId": "cf19c7dc-189e-4538-d82f-ba73faba57f8"
      },
      "outputs": [
        {
          "output_type": "stream",
          "name": "stdout",
          "text": [
            "\n",
            " Automatic Model Performance Metrics:\n",
            "Training Accuracy: 0.7401\n",
            "Testing Accuracy:  0.7519\n",
            "F1 Score: 0.7629\n",
            "Precision: 0.6884\n",
            "Recall: 0.8556\n",
            "ROC-AUC: 0.8395\n",
            "Confusion Matrix:\n",
            "[[476 244]\n",
            " [ 91 539]]\n",
            "Mean CV F1 Score: 0.7445\n",
            "\n",
            "Best Hyperparameters selected by GridSearchCV:\n",
            "{'metric': 'manhattan', 'n_neighbors': 37, 'weights': 'uniform'}\n"
          ]
        }
      ],
      "source": [
        "param_grid = {\n",
        "    'n_neighbors': range(5, 40),\n",
        "    'weights': ['uniform', 'distance'],\n",
        "    'metric': ['euclidean', 'manhattan']\n",
        "}\n",
        "\n",
        "knn = KNeighborsClassifier()\n",
        "grid_search = GridSearchCV(knn, param_grid, cv=5, scoring='f1', n_jobs=-1)\n",
        "grid_search.fit(X_train_imputed, y_train)\n",
        "\n",
        "best_knn = grid_search.best_estimator_\n",
        "\n",
        "# Predictions\n",
        "y_train_pred = best_knn.predict(X_train_imputed)\n",
        "y_test_pred = best_knn.predict(X_test_imputed)\n",
        "\n",
        "# Metrics\n",
        "train_acc = accuracy_score(y_train, y_train_pred)\n",
        "test_acc = accuracy_score(y_test, y_test_pred)\n",
        "prec = precision_score(y_test, y_test_pred)\n",
        "rec = recall_score(y_test, y_test_pred)\n",
        "f1 = f1_score(y_test, y_test_pred)\n",
        "roc = roc_auc_score(y_test, best_knn.predict_proba(X_test_imputed)[:,1])\n",
        "cv_f1 = cross_val_score(best_knn, X_train_imputed, y_train, cv=5, scoring='f1').mean()\n",
        "cm = confusion_matrix(y_test, y_test_pred)\n",
        "\n",
        "# Print\n",
        "print(\"\\n Automatic Model Performance Metrics:\")\n",
        "print(f\"Training Accuracy: {train_acc:.4f}\")\n",
        "print(f\"Testing Accuracy:  {test_acc:.4f}\")\n",
        "print(f\"F1 Score: {f1:.4f}\")\n",
        "print(f\"Precision: {prec:.4f}\")\n",
        "print(f\"Recall: {rec:.4f}\")\n",
        "print(f\"ROC-AUC: {roc:.4f}\")\n",
        "print(\"Confusion Matrix:\")\n",
        "print(cm)\n",
        "print(f\"Mean CV F1 Score: {cv_f1:.4f}\")\n",
        "\n",
        "print(\"\\nBest Hyperparameters selected by GridSearchCV:\")\n",
        "print(grid_search.best_params_)"
      ]
    },
    {
      "cell_type": "markdown",
      "metadata": {
        "id": "28_Y35bFbJzJ"
      },
      "source": [
        "## **STEP 5: Manual vs Automatic Comparison**"
      ]
    },
    {
      "cell_type": "code",
      "execution_count": 44,
      "metadata": {
        "id": "KVA5CLn7bDSK",
        "colab": {
          "base_uri": "https://localhost:8080/"
        },
        "outputId": "63cf5717-96f5-4503-840c-efb1d1f4869b"
      },
      "outputs": [
        {
          "output_type": "stream",
          "name": "stdout",
          "text": [
            "=== Manual vs Automatic KNN Comparison ===\n",
            "Manual K = 32\n",
            "Automatic best params: {'metric': 'manhattan', 'n_neighbors': 37, 'weights': 'uniform'}\n",
            "\n",
            "Metric                   Manual    Automatic\n",
            "Train Accuracy           1.0000       0.7401\n",
            "Test Accuracy            0.7385       0.7519\n",
            "Precision                0.7058       0.6884\n",
            "Recall                   0.7540       0.8556\n",
            "F1 Score                 0.7291       0.7629\n",
            "ROC-AUC                  0.7395       0.8395\n",
            "CV F1 (5-fold)           0.0000       0.7445\n",
            "\n"
          ]
        }
      ],
      "source": [
        "# Define variables for comparison\n",
        "manual_train_acc = accuracy_score(y_train, y_manual_train_pred)\n",
        "manual_test_acc = manual_test_acc\n",
        "manual_prec = manual_precision\n",
        "manual_rec = manual_recall\n",
        "manual_f1_val = manual_test_f1\n",
        "manual_roc_val = manual_roc\n",
        "manual_cv_f1 = 0.0\n",
        "manual_cm_val = manual_cm\n",
        "\n",
        "auto_train_acc = accuracy_score(y_train, y_train_pred)\n",
        "auto_test_acc = test_acc\n",
        "auto_prec = prec\n",
        "auto_rec = rec\n",
        "auto_f1_val = f1\n",
        "auto_roc_val = roc\n",
        "auto_cv_f1 = cv_f1\n",
        "auto_cm_val = cm\n",
        "\n",
        "# Print comparison table\n",
        "print(\"=== Manual vs Automatic KNN Comparison ===\")\n",
        "print(f\"Manual K = {k_manual}\")\n",
        "print(f\"Automatic best params: {grid_search.best_params_}\")\n",
        "print()\n",
        "print(f\"{'Metric':<20} {'Manual':>10} {'Automatic':>12}\")\n",
        "print(f\"{'Train Accuracy':<20} {manual_train_acc:10.4f} {auto_train_acc:12.4f}\")\n",
        "print(f\"{'Test Accuracy':<20} {manual_test_acc:10.4f} {auto_test_acc:12.4f}\")\n",
        "print(f\"{'Precision':<20} {manual_prec:10.4f} {auto_prec:12.4f}\")\n",
        "print(f\"{'Recall':<20} {manual_rec:10.4f} {auto_rec:12.4f}\")\n",
        "print(f\"{'F1 Score':<20} {manual_f1_val:10.4f} {auto_f1_val:12.4f}\")\n",
        "print(f\"{'ROC-AUC':<20} {manual_roc_val:10.4f} {auto_roc_val:12.4f}\")\n",
        "print(f\"{'CV F1 (5-fold)':<20} {manual_cv_f1:10.4f} {auto_cv_f1:12.4f}\")\n",
        "print()"
      ]
    },
    {
      "cell_type": "code",
      "execution_count": 45,
      "metadata": {
        "id": "0k_Yn4a4bPSw",
        "colab": {
          "base_uri": "https://localhost:8080/",
          "height": 803
        },
        "outputId": "29f27b68-0cfc-4f6d-cfe1-7bdfd8750ac4"
      },
      "outputs": [
        {
          "output_type": "display_data",
          "data": {
            "text/plain": [
              "<Figure size 500x400 with 2 Axes>"
            ],
            "image/png": "[encoded data removed]"
          },
          "metadata": {}
        },
        {
          "output_type": "display_data",
          "data": {
            "text/plain": [
              "<Figure size 500x400 with 2 Axes>"
            ],
            "image/png": "[encoded data removed]"
          },
          "metadata": {}
        }
      ],
      "source": [
        "# Manual KNN Confusion Matrix\n",
        "plt.figure(figsize=(5,4))\n",
        "sns.heatmap(manual_cm_val, annot=True, fmt='d', cmap='Blues')\n",
        "plt.title(f'Manual KNN Confusion Matrix (K={k_manual})')\n",
        "plt.xlabel('Predicted')\n",
        "plt.ylabel('Actual')\n",
        "plt.show()\n",
        "\n",
        "# Automatic KNN Confusion Matrix\n",
        "plt.figure(figsize=(5,4))\n",
        "sns.heatmap(auto_cm_val, annot=True, fmt='d', cmap='Greens')\n",
        "plt.title(f'Automatic KNN Confusion Matrix')\n",
        "plt.xlabel('Predicted')\n",
        "plt.ylabel('Actual')\n",
        "plt.show()\n"
      ]
    }
  ],
  "metadata": {
    "colab": {
      "provenance": []
    },
    "kernelspec": {
      "display_name": "Python 3",
      "name": "python3"
    },
    "language_info": {
      "name": "python"
    }
  },
  "nbformat": 4,
  "nbformat_minor": 0
}