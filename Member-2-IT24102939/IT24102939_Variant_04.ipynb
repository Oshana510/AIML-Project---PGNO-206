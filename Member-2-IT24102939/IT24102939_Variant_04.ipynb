{
  "nbformat": 4,
  "nbformat_minor": 0,
  "metadata": {
    "colab": {
      "provenance": []
    },
    "kernelspec": {
      "name": "python3",
      "display_name": "Python 3"
    },
    "language_info": {
      "name": "python"
    }
  },
  "cells": [
    {
      "cell_type": "code",
      "execution_count": 23,
      "metadata": {
        "colab": {
          "base_uri": "https://localhost:8080/"
        },
        "id": "Q7dy15eUtCJp",
        "outputId": "0753276d-266c-478d-d9ea-23a777afec57"
      },
      "outputs": [
        {
          "output_type": "stream",
          "name": "stdout",
          "text": [
            "Drive already mounted at /content/drive; to attempt to forcibly remount, call drive.mount(\"/content/drive\", force_remount=True).\n"
          ]
        }
      ],
      "source": [
        "from google.colab import drive\n",
        "drive.mount('/content/drive')"
      ]
    },
    {
      "cell_type": "code",
      "source": [
        "import pandas as pd\n",
        "import numpy as np\n",
        "import joblib\n",
        "import matplotlib.pyplot as plt\n",
        "import seaborn as sns\n",
        "from sklearn.impute import SimpleImputer\n",
        "from sklearn.preprocessing import StandardScaler, LabelEncoder\n",
        "from sklearn.model_selection import train_test_split, GridSearchCV, cross_val_score\n",
        "from sklearn.neighbors import KNeighborsClassifier\n",
        "from sklearn.metrics import (\n",
        "    accuracy_score, precision_score, recall_score,\n",
        "    f1_score, roc_auc_score, confusion_matrix\n",
        ")"
      ],
      "metadata": {
        "id": "-1bGxPTWtQHA"
      },
      "execution_count": 24,
      "outputs": []
    },
    {
      "cell_type": "markdown",
      "source": [
        "# **STEP 1: Load and Split Dataset**"
      ],
      "metadata": {
        "id": "ct_1BFemtk_t"
      }
    },
    {
      "cell_type": "code",
      "source": [
        "df = pd.read_csv(\"/content/df_with_stockcode_rfm1.csv\")"
      ],
      "metadata": {
        "id": "CDzVX8Gqtf0G"
      },
      "execution_count": 25,
      "outputs": []
    },
    {
      "cell_type": "code",
      "source": [
        "#Display First Five Rows\n",
        "display(df.head())"
      ],
      "metadata": {
        "colab": {
          "base_uri": "https://localhost:8080/",
          "height": 235
        },
        "id": "8SwgTsjwtr80",
        "outputId": "e8c9751e-9792-4c8d-db95-80cec5b17a6a"
      },
      "execution_count": 26,
      "outputs": [
        {
          "output_type": "display_data",
          "data": {
            "text/plain": [
              "   UnitPrice  QuantityAbsolute  TotalAmount      Year     Month       Day  \\\n",
              "0  -0.787370         -0.009966    -0.468966  0.269665  1.306861 -0.678858   \n",
              "1  -0.265540          1.650565     1.793874  0.269665 -1.001465  0.480271   \n",
              "2  -0.787370          2.204075     0.963211  0.269665 -0.135843 -0.910684   \n",
              "3   0.281438         -0.840232    -0.762562  0.269665 -0.424384 -1.606161   \n",
              "4  -1.309200          0.543544    -0.824146  0.269665  0.441239 -0.215206   \n",
              "\n",
              "   DayOfWeek      Hour StockCode  Quantity  ... wreath  writing  yellow  \\\n",
              "0   0.840102 -1.216770    85049A         4  ...    0.0      0.0     0.0   \n",
              "1  -0.817183 -1.624390    85099B        10  ...    0.0      0.0     0.0   \n",
              "2   0.287673 -1.216770     21993        12  ...    0.0      0.0     0.0   \n",
              "3  -0.264755  0.821327     22699        -1  ...    0.0      0.0     0.0   \n",
              "4  -0.817183 -0.401531     23002         6  ...    0.0      0.0     0.0   \n",
              "\n",
              "   yellowblue  youre  yuletide  zinc  Recency  Frequency  Monetary  \n",
              "0         0.0    0.0       0.0   0.0      1.0        6.0     63.95  \n",
              "1         0.0    0.0       0.0   0.0     85.0        4.0     70.25  \n",
              "2         0.0    0.0       0.0   0.0    156.0        1.0     15.00  \n",
              "3         0.0    0.0       0.0   0.0    191.0        2.0     24.05  \n",
              "4         0.0    0.0       0.0   0.0     33.0        2.0     20.04  \n",
              "\n",
              "[5 rows x 1557 columns]"
            ],
            "text/html": [
              "\n",
              "  <div id=\"df-858a696a-3165-4f29-b298-dd3aca4e3123\" class=\"colab-df-container\">\n",
              "    <div>\n",
              "<style scoped>\n",
              "    .dataframe tbody tr th:only-of-type {\n",
              "        vertical-align: middle;\n",
              "    }\n",
              "\n",
              "    .dataframe tbody tr th {\n",
              "        vertical-align: top;\n",
              "    }\n",
              "\n",
              "    .dataframe thead th {\n",
              "        text-align: right;\n",
              "    }\n",
              "</style>\n",
              "<table border=\"1\" class=\"dataframe\">\n",
              "  <thead>\n",
              "    <tr style=\"text-align: right;\">\n",
              "      <th></th>\n",
              "      <th>UnitPrice</th>\n",
              "      <th>QuantityAbsolute</th>\n",
              "      <th>TotalAmount</th>\n",
              "      <th>Year</th>\n",
              "      <th>Month</th>\n",
              "      <th>Day</th>\n",
              "      <th>DayOfWeek</th>\n",
              "      <th>Hour</th>\n",
              "      <th>StockCode</th>\n",
              "      <th>Quantity</th>\n",
              "      <th>...</th>\n",
              "      <th>wreath</th>\n",
              "      <th>writing</th>\n",
              "      <th>yellow</th>\n",
              "      <th>yellowblue</th>\n",
              "      <th>youre</th>\n",
              "      <th>yuletide</th>\n",
              "      <th>zinc</th>\n",
              "      <th>Recency</th>\n",
              "      <th>Frequency</th>\n",
              "      <th>Monetary</th>\n",
              "    </tr>\n",
              "  </thead>\n",
              "  <tbody>\n",
              "    <tr>\n",
              "      <th>0</th>\n",
              "      <td>-0.787370</td>\n",
              "      <td>-0.009966</td>\n",
              "      <td>-0.468966</td>\n",
              "      <td>0.269665</td>\n",
              "      <td>1.306861</td>\n",
              "      <td>-0.678858</td>\n",
              "      <td>0.840102</td>\n",
              "      <td>-1.216770</td>\n",
              "      <td>85049A</td>\n",
              "      <td>4</td>\n",
              "      <td>...</td>\n",
              "      <td>0.0</td>\n",
              "      <td>0.0</td>\n",
              "      <td>0.0</td>\n",
              "      <td>0.0</td>\n",
              "      <td>0.0</td>\n",
              "      <td>0.0</td>\n",
              "      <td>0.0</td>\n",
              "      <td>1.0</td>\n",
              "      <td>6.0</td>\n",
              "      <td>63.95</td>\n",
              "    </tr>\n",
              "    <tr>\n",
              "      <th>1</th>\n",
              "      <td>-0.265540</td>\n",
              "      <td>1.650565</td>\n",
              "      <td>1.793874</td>\n",
              "      <td>0.269665</td>\n",
              "      <td>-1.001465</td>\n",
              "      <td>0.480271</td>\n",
              "      <td>-0.817183</td>\n",
              "      <td>-1.624390</td>\n",
              "      <td>85099B</td>\n",
              "      <td>10</td>\n",
              "      <td>...</td>\n",
              "      <td>0.0</td>\n",
              "      <td>0.0</td>\n",
              "      <td>0.0</td>\n",
              "      <td>0.0</td>\n",
              "      <td>0.0</td>\n",
              "      <td>0.0</td>\n",
              "      <td>0.0</td>\n",
              "      <td>85.0</td>\n",
              "      <td>4.0</td>\n",
              "      <td>70.25</td>\n",
              "    </tr>\n",
              "    <tr>\n",
              "      <th>2</th>\n",
              "      <td>-0.787370</td>\n",
              "      <td>2.204075</td>\n",
              "      <td>0.963211</td>\n",
              "      <td>0.269665</td>\n",
              "      <td>-0.135843</td>\n",
              "      <td>-0.910684</td>\n",
              "      <td>0.287673</td>\n",
              "      <td>-1.216770</td>\n",
              "      <td>21993</td>\n",
              "      <td>12</td>\n",
              "      <td>...</td>\n",
              "      <td>0.0</td>\n",
              "      <td>0.0</td>\n",
              "      <td>0.0</td>\n",
              "      <td>0.0</td>\n",
              "      <td>0.0</td>\n",
              "      <td>0.0</td>\n",
              "      <td>0.0</td>\n",
              "      <td>156.0</td>\n",
              "      <td>1.0</td>\n",
              "      <td>15.00</td>\n",
              "    </tr>\n",
              "    <tr>\n",
              "      <th>3</th>\n",
              "      <td>0.281438</td>\n",
              "      <td>-0.840232</td>\n",
              "      <td>-0.762562</td>\n",
              "      <td>0.269665</td>\n",
              "      <td>-0.424384</td>\n",
              "      <td>-1.606161</td>\n",
              "      <td>-0.264755</td>\n",
              "      <td>0.821327</td>\n",
              "      <td>22699</td>\n",
              "      <td>-1</td>\n",
              "      <td>...</td>\n",
              "      <td>0.0</td>\n",
              "      <td>0.0</td>\n",
              "      <td>0.0</td>\n",
              "      <td>0.0</td>\n",
              "      <td>0.0</td>\n",
              "      <td>0.0</td>\n",
              "      <td>0.0</td>\n",
              "      <td>191.0</td>\n",
              "      <td>2.0</td>\n",
              "      <td>24.05</td>\n",
              "    </tr>\n",
              "    <tr>\n",
              "      <th>4</th>\n",
              "      <td>-1.309200</td>\n",
              "      <td>0.543544</td>\n",
              "      <td>-0.824146</td>\n",
              "      <td>0.269665</td>\n",
              "      <td>0.441239</td>\n",
              "      <td>-0.215206</td>\n",
              "      <td>-0.817183</td>\n",
              "      <td>-0.401531</td>\n",
              "      <td>23002</td>\n",
              "      <td>6</td>\n",
              "      <td>...</td>\n",
              "      <td>0.0</td>\n",
              "      <td>0.0</td>\n",
              "      <td>0.0</td>\n",
              "      <td>0.0</td>\n",
              "      <td>0.0</td>\n",
              "      <td>0.0</td>\n",
              "      <td>0.0</td>\n",
              "      <td>33.0</td>\n",
              "      <td>2.0</td>\n",
              "      <td>20.04</td>\n",
              "    </tr>\n",
              "  </tbody>\n",
              "</table>\n",
              "<p>5 rows × 1557 columns</p>\n",
              "</div>\n",
              "    <div class=\"colab-df-buttons\">\n",
              "\n",
              "  <div class=\"colab-df-container\">\n",
              "    <button class=\"colab-df-convert\" onclick=\"convertToInteractive('df-858a696a-3165-4f29-b298-dd3aca4e3123')\"\n",
              "            title=\"Convert this dataframe to an interactive table.\"\n",
              "            style=\"display:none;\">\n",
              "\n",
              "  <svg xmlns=\"http://www.w3.org/2000/svg\" height=\"24px\" viewBox=\"0 -960 960 960\">\n",
              "    <path d=\"M120-120v-720h720v720H120Zm60-500h600v-160H180v160Zm220 220h160v-160H400v160Zm0 220h160v-160H400v160ZM180-400h160v-160H180v160Zm440 0h160v-160H620v160ZM180-180h160v-160H180v160Zm440 0h160v-160H620v160Z\"/>\n",
              "  </svg>\n",
              "    </button>\n",
              "\n",
              "  <style>\n",
              "    .colab-df-container {\n",
              "      display:flex;\n",
              "      gap: 12px;\n",
              "    }\n",
              "\n",
              "    .colab-df-convert {\n",
              "      background-color: #E8F0FE;\n",
              "      border: none;\n",
              "      border-radius: 50%;\n",
              "      cursor: pointer;\n",
              "      display: none;\n",
              "      fill: #1967D2;\n",
              "      height: 32px;\n",
              "      padding: 0 0 0 0;\n",
              "      width: 32px;\n",
              "    }\n",
              "\n",
              "    .colab-df-convert:hover {\n",
              "      background-color: #E2EBFA;\n",
              "      box-shadow: 0px 1px 2px rgba(60, 64, 67, 0.3), 0px 1px 3px 1px rgba(60, 64, 67, 0.15);\n",
              "      fill: #174EA6;\n",
              "    }\n",
              "\n",
              "    .colab-df-buttons div {\n",
              "      margin-bottom: 4px;\n",
              "    }\n",
              "\n",
              "    [theme=dark] .colab-df-convert {\n",
              "      background-color: #3B4455;\n",
              "      fill: #D2E3FC;\n",
              "    }\n",
              "\n",
              "    [theme=dark] .colab-df-convert:hover {\n",
              "      background-color: #434B5C;\n",
              "      box-shadow: 0px 1px 3px 1px rgba(0, 0, 0, 0.15);\n",
              "      filter: drop-shadow(0px 1px 2px rgba(0, 0, 0, 0.3));\n",
              "      fill: #FFFFFF;\n",
              "    }\n",
              "  </style>\n",
              "\n",
              "    <script>\n",
              "      const buttonEl =\n",
              "        document.querySelector('#df-858a696a-3165-4f29-b298-dd3aca4e3123 button.colab-df-convert');\n",
              "      buttonEl.style.display =\n",
              "        google.colab.kernel.accessAllowed ? 'block' : 'none';\n",
              "\n",
              "      async function convertToInteractive(key) {\n",
              "        const element = document.querySelector('#df-858a696a-3165-4f29-b298-dd3aca4e3123');\n",
              "        const dataTable =\n",
              "          await google.colab.kernel.invokeFunction('convertToInteractive',\n",
              "                                                    [key], {});\n",
              "        if (!dataTable) return;\n",
              "\n",
              "        const docLinkHtml = 'Like what you see? Visit the ' +\n",
              "          '<a target=\"_blank\" href=https://colab.research.google.com/notebooks/data_table.ipynb>data table notebook</a>'\n",
              "          + ' to learn more about interactive tables.';\n",
              "        element.innerHTML = '';\n",
              "        dataTable['output_type'] = 'display_data';\n",
              "        await google.colab.output.renderOutput(dataTable, element);\n",
              "        const docLink = document.createElement('div');\n",
              "        docLink.innerHTML = docLinkHtml;\n",
              "        element.appendChild(docLink);\n",
              "      }\n",
              "    </script>\n",
              "  </div>\n",
              "\n",
              "\n",
              "    <div id=\"df-9d7abd05-b9e2-4eb4-9891-0caf1e9999f5\">\n",
              "      <button class=\"colab-df-quickchart\" onclick=\"quickchart('df-9d7abd05-b9e2-4eb4-9891-0caf1e9999f5')\"\n",
              "                title=\"Suggest charts\"\n",
              "                style=\"display:none;\">\n",
              "\n",
              "<svg xmlns=\"http://www.w3.org/2000/svg\" height=\"24px\"viewBox=\"0 0 24 24\"\n",
              "     width=\"24px\">\n",
              "    <g>\n",
              "        <path d=\"M19 3H5c-1.1 0-2 .9-2 2v14c0 1.1.9 2 2 2h14c1.1 0 2-.9 2-2V5c0-1.1-.9-2-2-2zM9 17H7v-7h2v7zm4 0h-2V7h2v10zm4 0h-2v-4h2v4z\"/>\n",
              "    </g>\n",
              "</svg>\n",
              "      </button>\n",
              "\n",
              "<style>\n",
              "  .colab-df-quickchart {\n",
              "      --bg-color: #E8F0FE;\n",
              "      --fill-color: #1967D2;\n",
              "      --hover-bg-color: #E2EBFA;\n",
              "      --hover-fill-color: #174EA6;\n",
              "      --disabled-fill-color: #AAA;\n",
              "      --disabled-bg-color: #DDD;\n",
              "  }\n",
              "\n",
              "  [theme=dark] .colab-df-quickchart {\n",
              "      --bg-color: #3B4455;\n",
              "      --fill-color: #D2E3FC;\n",
              "      --hover-bg-color: #434B5C;\n",
              "      --hover-fill-color: #FFFFFF;\n",
              "      --disabled-bg-color: #3B4455;\n",
              "      --disabled-fill-color: #666;\n",
              "  }\n",
              "\n",
              "  .colab-df-quickchart {\n",
              "    background-color: var(--bg-color);\n",
              "    border: none;\n",
              "    border-radius: 50%;\n",
              "    cursor: pointer;\n",
              "    display: none;\n",
              "    fill: var(--fill-color);\n",
              "    height: 32px;\n",
              "    padding: 0;\n",
              "    width: 32px;\n",
              "  }\n",
              "\n",
              "  .colab-df-quickchart:hover {\n",
              "    background-color: var(--hover-bg-color);\n",
              "    box-shadow: 0 1px 2px rgba(60, 64, 67, 0.3), 0 1px 3px 1px rgba(60, 64, 67, 0.15);\n",
              "    fill: var(--button-hover-fill-color);\n",
              "  }\n",
              "\n",
              "  .colab-df-quickchart-complete:disabled,\n",
              "  .colab-df-quickchart-complete:disabled:hover {\n",
              "    background-color: var(--disabled-bg-color);\n",
              "    fill: var(--disabled-fill-color);\n",
              "    box-shadow: none;\n",
              "  }\n",
              "\n",
              "  .colab-df-spinner {\n",
              "    border: 2px solid var(--fill-color);\n",
              "    border-color: transparent;\n",
              "    border-bottom-color: var(--fill-color);\n",
              "    animation:\n",
              "      spin 1s steps(1) infinite;\n",
              "  }\n",
              "\n",
              "  @keyframes spin {\n",
              "    0% {\n",
              "      border-color: transparent;\n",
              "      border-bottom-color: var(--fill-color);\n",
              "      border-left-color: var(--fill-color);\n",
              "    }\n",
              "    20% {\n",
              "      border-color: transparent;\n",
              "      border-left-color: var(--fill-color);\n",
              "      border-top-color: var(--fill-color);\n",
              "    }\n",
              "    30% {\n",
              "      border-color: transparent;\n",
              "      border-left-color: var(--fill-color);\n",
              "      border-top-color: var(--fill-color);\n",
              "      border-right-color: var(--fill-color);\n",
              "    }\n",
              "    40% {\n",
              "      border-color: transparent;\n",
              "      border-right-color: var(--fill-color);\n",
              "      border-top-color: var(--fill-color);\n",
              "    }\n",
              "    60% {\n",
              "      border-color: transparent;\n",
              "      border-right-color: var(--fill-color);\n",
              "    }\n",
              "    80% {\n",
              "      border-color: transparent;\n",
              "      border-right-color: var(--fill-color);\n",
              "      border-bottom-color: var(--fill-color);\n",
              "    }\n",
              "    90% {\n",
              "      border-color: transparent;\n",
              "      border-bottom-color: var(--fill-color);\n",
              "    }\n",
              "  }\n",
              "</style>\n",
              "\n",
              "      <script>\n",
              "        async function quickchart(key) {\n",
              "          const quickchartButtonEl =\n",
              "            document.querySelector('#' + key + ' button');\n",
              "          quickchartButtonEl.disabled = true;  // To prevent multiple clicks.\n",
              "          quickchartButtonEl.classList.add('colab-df-spinner');\n",
              "          try {\n",
              "            const charts = await google.colab.kernel.invokeFunction(\n",
              "                'suggestCharts', [key], {});\n",
              "          } catch (error) {\n",
              "            console.error('Error during call to suggestCharts:', error);\n",
              "          }\n",
              "          quickchartButtonEl.classList.remove('colab-df-spinner');\n",
              "          quickchartButtonEl.classList.add('colab-df-quickchart-complete');\n",
              "        }\n",
              "        (() => {\n",
              "          let quickchartButtonEl =\n",
              "            document.querySelector('#df-9d7abd05-b9e2-4eb4-9891-0caf1e9999f5 button');\n",
              "          quickchartButtonEl.style.display =\n",
              "            google.colab.kernel.accessAllowed ? 'block' : 'none';\n",
              "        })();\n",
              "      </script>\n",
              "    </div>\n",
              "\n",
              "    </div>\n",
              "  </div>\n"
            ],
            "application/vnd.google.colaboratory.intrinsic+json": {
              "type": "dataframe"
            }
          },
          "metadata": {}
        }
      ]
    },
    {
      "cell_type": "code",
      "source": [
        "display(df.info())"
      ],
      "metadata": {
        "colab": {
          "base_uri": "https://localhost:8080/",
          "height": 128
        },
        "id": "Bq4fn8pFtvLj",
        "outputId": "329563c2-938e-470f-a2fa-d35a67629abf"
      },
      "execution_count": 27,
      "outputs": [
        {
          "output_type": "stream",
          "name": "stdout",
          "text": [
            "<class 'pandas.core.frame.DataFrame'>\n",
            "RangeIndex: 6748 entries, 0 to 6747\n",
            "Columns: 1557 entries, UnitPrice to Monetary\n",
            "dtypes: float64(1521), int64(34), object(2)\n",
            "memory usage: 80.2+ MB\n"
          ]
        },
        {
          "output_type": "display_data",
          "data": {
            "text/plain": [
              "None"
            ]
          },
          "metadata": {}
        }
      ]
    },
    {
      "cell_type": "code",
      "source": [
        "# Separate features and target\n",
        "X = df.drop(columns=['IsCancelled'])\n",
        "y = df['IsCancelled']\n",
        "\n",
        "# Encode object (categorical) columns\n",
        "for col in X.select_dtypes(include=['object']).columns:\n",
        "    X[col] = LabelEncoder().fit_transform(X[col])\n",
        "\n",
        "# Optional: scale features to improve KNN performance\n",
        "scaler = StandardScaler()\n",
        "X_scaled = scaler.fit_transform(X)\n",
        "\n",
        "# Split data 80% train and 20% test\n",
        "X_train, X_test, y_train, y_test = train_test_split(\n",
        "    X_scaled, y, test_size=0.2, random_state=42, stratify=y\n",
        ")\n",
        "\n",
        "# Print shapes to verify\n",
        "print(\"Shapes after split:\")\n",
        "print(\"X_train:\", X_train.shape)\n",
        "print(\"X_test: \", X_test.shape)\n",
        "print(\"y_train:\", y_train.shape)\n",
        "print(\"y_test: \", y_test.shape)\n",
        "print()"
      ],
      "metadata": {
        "colab": {
          "base_uri": "https://localhost:8080/"
        },
        "id": "7lk9ttV3t0HT",
        "outputId": "3405aea2-d27d-4edf-9791-05a1a8adffa5"
      },
      "execution_count": 28,
      "outputs": [
        {
          "output_type": "stream",
          "name": "stdout",
          "text": [
            "Shapes after split:\n",
            "X_train: (5398, 1556)\n",
            "X_test:  (1350, 1556)\n",
            "y_train: (5398,)\n",
            "y_test:  (1350,)\n",
            "\n"
          ]
        }
      ]
    },
    {
      "cell_type": "markdown",
      "source": [
        "# **STEP 2: Check Correct Predictions for Each K**"
      ],
      "metadata": {
        "id": "2wyVYHE8t4gZ"
      }
    },
    {
      "cell_type": "code",
      "execution_count": 29,
      "metadata": {
        "id": "EpYL5qxPq0Iq",
        "colab": {
          "base_uri": "https://localhost:8080/"
        },
        "outputId": "1c106e22-6fa7-4311-d0ee-f5c9519a8426"
      },
      "outputs": [
        {
          "output_type": "stream",
          "name": "stdout",
          "text": [
            "K | Train Accuracy | Test Accuracy | Correct Predictions\n",
            " 5 |        0.8120 |       0.7259 |        980\n",
            " 6 |        0.7888 |       0.7341 |        991\n",
            " 7 |        0.7899 |       0.7407 |       1000\n",
            " 8 |        0.7779 |       0.7393 |        998\n",
            " 9 |        0.7790 |       0.7459 |       1007\n",
            "10 |        0.7727 |       0.7526 |       1016\n",
            "11 |        0.7697 |       0.7459 |       1007\n",
            "12 |        0.7677 |       0.7504 |       1013\n",
            "13 |        0.7631 |       0.7556 |       1020\n",
            "14 |        0.7629 |       0.7467 |       1008\n",
            "15 |        0.7612 |       0.7533 |       1017\n",
            "16 |        0.7621 |       0.7563 |       1021\n",
            "17 |        0.7555 |       0.7519 |       1015\n",
            "18 |        0.7616 |       0.7511 |       1014\n",
            "19 |        0.7557 |       0.7570 |       1022\n",
            "20 |        0.7575 |       0.7593 |       1025\n",
            "21 |        0.7486 |       0.7511 |       1014\n",
            "22 |        0.7505 |       0.7511 |       1014\n",
            "23 |        0.7488 |       0.7474 |       1009\n",
            "24 |        0.7508 |       0.7504 |       1013\n",
            "25 |        0.7466 |       0.7519 |       1015\n",
            "26 |        0.7529 |       0.7585 |       1024\n",
            "27 |        0.7477 |       0.7526 |       1016\n",
            "28 |        0.7527 |       0.7526 |       1016\n",
            "29 |        0.7468 |       0.7504 |       1013\n",
            "30 |        0.7527 |       0.7593 |       1025\n",
            "31 |        0.7455 |       0.7541 |       1018\n",
            "32 |        0.7505 |       0.7585 |       1024\n",
            "33 |        0.7443 |       0.7504 |       1013\n",
            "34 |        0.7479 |       0.7548 |       1019\n",
            "35 |        0.7405 |       0.7496 |       1012\n",
            "36 |        0.7479 |       0.7570 |       1022\n",
            "37 |        0.7401 |       0.7519 |       1015\n",
            "38 |        0.7451 |       0.7541 |       1018\n",
            "39 |        0.7423 |       0.7541 |       1018\n",
            "40 |        0.7445 |       0.7563 |       1021\n",
            "41 |        0.7408 |       0.7548 |       1019\n",
            "42 |        0.7456 |       0.7533 |       1017\n",
            "43 |        0.7384 |       0.7570 |       1022\n",
            "44 |        0.7423 |       0.7600 |       1026\n",
            "45 |        0.7384 |       0.7474 |       1009\n",
            "46 |        0.7419 |       0.7563 |       1021\n",
            "47 |        0.7397 |       0.7541 |       1018\n",
            "48 |        0.7434 |       0.7556 |       1020\n",
            "49 |        0.7403 |       0.7526 |       1016\n",
            "\n",
            "Best K found (by max correct predictions): 44\n",
            "Correct predictions = 1026 / 1350\n"
          ]
        }
      ],
      "source": [
        "k_values = range(5,50)\n",
        "correct_sum = []\n",
        "train_acc_list = []\n",
        "test_acc_list = []\n",
        "\n",
        "# Impute missing values using the mean strategy\n",
        "imputer = SimpleImputer(strategy='mean')\n",
        "X_train_imputed = imputer.fit_transform(X_train)\n",
        "X_test_imputed = imputer.transform(X_test)\n",
        "\n",
        "for k in k_values:\n",
        "    model = KNeighborsClassifier(n_neighbors=k, metric='manhattan', weights='uniform')\n",
        "    model.fit(X_train_imputed, y_train)\n",
        "\n",
        "    # Predictions\n",
        "    train_pred = model.predict(X_train_imputed)\n",
        "    test_pred = model.predict(X_test_imputed)\n",
        "\n",
        "    # Accuracy\n",
        "    train_acc = accuracy_score(y_train, train_pred)\n",
        "    test_acc = accuracy_score(y_test, test_pred)\n",
        "\n",
        "    train_acc_list.append(train_acc)\n",
        "    test_acc_list.append(test_acc)\n",
        "\n",
        "    # Correct predictions on test set\n",
        "    correct = int(np.sum(test_pred == y_test))\n",
        "    correct_sum.append(correct)\n",
        "\n",
        "# Show results\n",
        "print(\"K | Train Accuracy | Test Accuracy | Correct Predictions\")\n",
        "for k, tr, te, c in zip(k_values, train_acc_list, test_acc_list, correct_sum):\n",
        "    print(f\"{k:2d} | {tr:13.4f} | {te:12.4f} | {c:10d}\")\n",
        "\n",
        "# Automatically find best K based on max correct predictions\n",
        "best_k_index = int(np.argmax(correct_sum))\n",
        "best_k = k_values[best_k_index]\n",
        "best_correct = correct_sum[best_k_index]\n",
        "best_train_acc = train_acc_list[best_k_index]\n",
        "best_test_acc = test_acc_list[best_k_index]\n",
        "\n",
        "print()\n",
        "print(f\"Best K found (by max correct predictions): {best_k}\")\n",
        "print(f\"Correct predictions = {best_correct} / {len(y_test)}\")\n",
        "\n"
      ]
    },
    {
      "cell_type": "code",
      "source": [
        "# Plot correct predictions vs K\n",
        "plt.figure(figsize=(9,4))\n",
        "plt.plot(list(k_values), correct_sum, marker='o')\n",
        "plt.title('Number of Correct Predictions vs K')\n",
        "plt.xlabel('Number of Neighbors (K)')\n",
        "plt.ylabel('Correct Predictions')\n",
        "plt.grid(True)\n",
        "plt.scatter([best_k], [best_correct], color='red', s=80, label=f'Best K = {best_k}')\n",
        "plt.legend()\n",
        "plt.tight_layout()\n",
        "plt.show()\n"
      ],
      "metadata": {
        "colab": {
          "base_uri": "https://localhost:8080/",
          "height": 407
        },
        "id": "q9CVDVujuVrl",
        "outputId": "5cb687cd-4092-416c-f46f-f99fecebbded"
      },
      "execution_count": 30,
      "outputs": [
        {
          "output_type": "display_data",
          "data": {
            "text/plain": [
              "<Figure size 900x400 with 1 Axes>"
            ],
            "image/png": "[encoded data removed]"
          },
          "metadata": {}
        }
      ]
    },
    {
      "cell_type": "markdown",
      "source": [
        "# **STEP 3: Manual KNN Training**"
      ],
      "metadata": {
        "id": "Du4blYeJ9vc3"
      }
    },
    {
      "cell_type": "code",
      "source": [
        "k_manual = 44\n",
        "\n",
        "manual_knn = KNeighborsClassifier(n_neighbors=k_manual, metric='manhattan', weights='uniform')\n",
        "\n",
        "#  Train the model\n",
        "manual_knn.fit(X_train_imputed, y_train)\n",
        "\n",
        "# Predict on training and testing data\n",
        "y_manual_train_pred = manual_knn.predict(X_train_imputed)\n",
        "y_manual_pred = manual_knn.predict(X_test_imputed)\n",
        "\n",
        "# Calculate metrics\n",
        "manual_train_acc = accuracy_score(y_train, y_manual_train_pred)\n",
        "manual_test_acc = accuracy_score(y_test, y_manual_pred)\n",
        "manual_f1 = f1_score(y_test, y_manual_pred)\n",
        "manual_precision = precision_score(y_test, y_manual_pred)\n",
        "manual_recall = recall_score(y_test, y_manual_pred)\n",
        "manual_roc = roc_auc_score(y_test, y_manual_pred)\n",
        "manual_cm = confusion_matrix(y_test, y_manual_pred)\n",
        "\n",
        "# Print results\n",
        "print(f\"\\n Manual K = {k_manual} Evaluation Metrics:\")\n",
        "print(f\"Training Accuracy: {manual_train_acc:.4f}\")\n",
        "print(f\"Testing Accuracy:  {manual_test_acc:.4f}\")\n",
        "print(f\"F1 Score: {manual_f1:.4f}\")\n",
        "print(f\"Precision: {manual_precision:.4f}\")\n",
        "print(f\"Recall: {manual_recall:.4f}\")\n",
        "print(f\"ROC-AUC: {manual_roc:.4f}\")\n",
        "print(\"Confusion Matrix:\")\n",
        "print(manual_cm)"
      ],
      "metadata": {
        "colab": {
          "base_uri": "https://localhost:8080/"
        },
        "id": "ISQXis-49xFe",
        "outputId": "d191dda5-2401-43e4-f9da-06e63f2f0591"
      },
      "execution_count": 31,
      "outputs": [
        {
          "output_type": "stream",
          "name": "stdout",
          "text": [
            "\n",
            " Manual K = 44 Evaluation Metrics:\n",
            "Training Accuracy: 0.7423\n",
            "Testing Accuracy:  0.7600\n",
            "F1 Score: 0.7712\n",
            "Precision: 0.6947\n",
            "Recall: 0.8667\n",
            "ROC-AUC: 0.7667\n",
            "Confusion Matrix:\n",
            "[[480 240]\n",
            " [ 84 546]]\n"
          ]
        }
      ]
    },
    {
      "cell_type": "markdown",
      "source": [
        "# **STEP 4: Automatic Best KNN (GridSearchCV)**"
      ],
      "metadata": {
        "id": "BUY9WbxPa6gt"
      }
    },
    {
      "cell_type": "code",
      "source": [
        "param_grid = {\n",
        "    'n_neighbors': range(5, 40),\n",
        "    'weights': ['uniform', 'distance'],\n",
        "    'metric': ['euclidean', 'manhattan']\n",
        "}\n",
        "\n",
        "knn = KNeighborsClassifier()\n",
        "grid_search = GridSearchCV(knn, param_grid, cv=5, scoring='f1', n_jobs=-1)\n",
        "grid_search.fit(X_train_imputed, y_train)\n",
        "\n",
        "best_knn = grid_search.best_estimator_\n",
        "\n",
        "# Predictions\n",
        "y_train_pred = best_knn.predict(X_train_imputed)\n",
        "y_test_pred = best_knn.predict(X_test_imputed)\n",
        "\n",
        "# Metrics\n",
        "train_acc = accuracy_score(y_train, y_train_pred)\n",
        "test_acc = accuracy_score(y_test, y_test_pred)\n",
        "prec = precision_score(y_test, y_test_pred)\n",
        "rec = recall_score(y_test, y_test_pred)\n",
        "f1 = f1_score(y_test, y_test_pred)\n",
        "roc = roc_auc_score(y_test, best_knn.predict_proba(X_test_imputed)[:,1])\n",
        "cv_f1 = cross_val_score(best_knn, X_train_imputed, y_train, cv=5, scoring='f1').mean()\n",
        "cm = confusion_matrix(y_test, y_test_pred)\n",
        "\n",
        "# Print\n",
        "print(\"\\n Automatic Model Performance Metrics:\")\n",
        "print(f\"Training Accuracy: {train_acc:.4f}\")\n",
        "print(f\"Testing Accuracy:  {test_acc:.4f}\")\n",
        "print(f\"F1 Score: {f1:.4f}\")\n",
        "print(f\"Precision: {prec:.4f}\")\n",
        "print(f\"Recall: {rec:.4f}\")\n",
        "print(f\"ROC-AUC: {roc:.4f}\")\n",
        "print(\"Confusion Matrix:\")\n",
        "print(cm)\n",
        "print(f\"Mean CV F1 Score: {cv_f1:.4f}\")\n",
        "\n",
        "print(\"\\nBest Hyperparameters selected by GridSearchCV:\")\n",
        "print(grid_search.best_params_)"
      ],
      "metadata": {
        "colab": {
          "base_uri": "https://localhost:8080/"
        },
        "id": "UveLlSHGa7uM",
        "outputId": "d998e93e-2b41-4e98-c822-08ef56bc280c"
      },
      "execution_count": 32,
      "outputs": [
        {
          "output_type": "stream",
          "name": "stdout",
          "text": [
            "\n",
            " Automatic Model Performance Metrics:\n",
            "Training Accuracy: 0.7401\n",
            "Testing Accuracy:  0.7519\n",
            "F1 Score: 0.7629\n",
            "Precision: 0.6884\n",
            "Recall: 0.8556\n",
            "ROC-AUC: 0.8395\n",
            "Confusion Matrix:\n",
            "[[476 244]\n",
            " [ 91 539]]\n",
            "Mean CV F1 Score: 0.7445\n",
            "\n",
            "Best Hyperparameters selected by GridSearchCV:\n",
            "{'metric': 'manhattan', 'n_neighbors': 37, 'weights': 'uniform'}\n"
          ]
        }
      ]
    },
    {
      "cell_type": "markdown",
      "source": [
        "## **STEP 5: Manual vs Automatic Comparison**"
      ],
      "metadata": {
        "id": "28_Y35bFbJzJ"
      }
    },
    {
      "cell_type": "code",
      "source": [
        "# Define variables for comparison\n",
        "manual_train_acc = accuracy_score(y_train, y_manual_train_pred)\n",
        "manual_test_acc = manual_test_acc\n",
        "manual_prec = manual_precision\n",
        "manual_rec = manual_recall\n",
        "manual_f1_val = manual_f1\n",
        "manual_roc_val = manual_roc\n",
        "manual_cv_f1 = 0.0\n",
        "manual_cm_val = manual_cm\n",
        "\n",
        "auto_train_acc = accuracy_score(y_train, y_train_pred)\n",
        "auto_test_acc = test_acc\n",
        "auto_prec = prec\n",
        "auto_rec = rec\n",
        "auto_f1_val = f1\n",
        "auto_roc_val = roc\n",
        "auto_cv_f1 = cv_f1\n",
        "auto_cm_val = cm\n",
        "\n",
        "# Print comparison table\n",
        "print(\"=== Manual vs Automatic KNN Comparison ===\")\n",
        "print(f\"Manual K = {k_manual}\")\n",
        "print(f\"Automatic best params: {grid_search.best_params_}\")\n",
        "print()\n",
        "print(f\"{'Metric':<20} {'Manual':>10} {'Automatic':>12}\")\n",
        "print(f\"{'Train Accuracy':<20} {manual_train_acc:10.4f} {auto_train_acc:12.4f}\")\n",
        "print(f\"{'Test Accuracy':<20} {manual_test_acc:10.4f} {auto_test_acc:12.4f}\")\n",
        "print(f\"{'Precision':<20} {manual_prec:10.4f} {auto_prec:12.4f}\")\n",
        "print(f\"{'Recall':<20} {manual_rec:10.4f} {auto_rec:12.4f}\")\n",
        "print(f\"{'F1 Score':<20} {manual_f1_val:10.4f} {auto_f1_val:12.4f}\")\n",
        "print(f\"{'ROC-AUC':<20} {manual_roc_val:10.4f} {auto_roc_val:12.4f}\")\n",
        "print(f\"{'CV F1 (5-fold)':<20} {manual_cv_f1:10.4f} {auto_cv_f1:12.4f}\")\n",
        "print()"
      ],
      "metadata": {
        "colab": {
          "base_uri": "https://localhost:8080/"
        },
        "id": "KVA5CLn7bDSK",
        "outputId": "8bad8eef-3544-4fed-c05e-fe7a409836c6"
      },
      "execution_count": 33,
      "outputs": [
        {
          "output_type": "stream",
          "name": "stdout",
          "text": [
            "=== Manual vs Automatic KNN Comparison ===\n",
            "Manual K = 44\n",
            "Automatic best params: {'metric': 'manhattan', 'n_neighbors': 37, 'weights': 'uniform'}\n",
            "\n",
            "Metric                   Manual    Automatic\n",
            "Train Accuracy           0.7423       0.7401\n",
            "Test Accuracy            0.7600       0.7519\n",
            "Precision                0.6947       0.6884\n",
            "Recall                   0.8667       0.8556\n",
            "F1 Score                 0.7712       0.7629\n",
            "ROC-AUC                  0.7667       0.8395\n",
            "CV F1 (5-fold)           0.0000       0.7445\n",
            "\n"
          ]
        }
      ]
    },
    {
      "cell_type": "code",
      "source": [
        "# Manual KNN Confusion Matrix\n",
        "plt.figure(figsize=(5,4))\n",
        "sns.heatmap(manual_cm_val, annot=True, fmt='d', cmap='Blues')\n",
        "plt.title(f'Manual KNN Confusion Matrix (K={k_manual})')\n",
        "plt.xlabel('Predicted')\n",
        "plt.ylabel('Actual')\n",
        "plt.show()\n",
        "\n",
        "# Automatic KNN Confusion Matrix\n",
        "plt.figure(figsize=(5,4))\n",
        "sns.heatmap(auto_cm_val, annot=True, fmt='d', cmap='Greens')\n",
        "plt.title(f'Automatic KNN Confusion Matrix')\n",
        "plt.xlabel('Predicted')\n",
        "plt.ylabel('Actual')\n",
        "plt.show()\n"
      ],
      "metadata": {
        "colab": {
          "base_uri": "https://localhost:8080/",
          "height": 803
        },
        "id": "0k_Yn4a4bPSw",
        "outputId": "9597b596-d321-4771-e238-d6e20185ec6e"
      },
      "execution_count": 34,
      "outputs": [
        {
          "output_type": "display_data",
          "data": {
            "text/plain": [
              "<Figure size 500x400 with 2 Axes>"
            ],
            "image/png": "[encoded data removed]"
          },
          "metadata": {}
        },
        {
          "output_type": "display_data",
          "data": {
            "text/plain": [
              "<Figure size 500x400 with 2 Axes>"
            ],
            "image/png": "[encoded data removed]"
          },
          "metadata": {}
        }
      ]
    }
  ]
}