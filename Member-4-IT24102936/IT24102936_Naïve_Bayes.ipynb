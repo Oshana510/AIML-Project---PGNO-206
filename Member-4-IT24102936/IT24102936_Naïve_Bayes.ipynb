{
 "cells": [
  {
   "cell_type": "code",
   "execution_count": null,
   "id": "691f9a17",
   "metadata": {},
   "outputs": [
    {
     "name": "stdout",
     "output_type": "stream",
     "text": [
      "Libraries imported successfully.\n"
     ]
    }
   ],
   "source": [
    "# --- 1.1: Import Necessary Libraries ---\n",
    "import pandas as pd\n",
    "import numpy as np\n",
    "from sklearn.model_selection import train_test_split, GridSearchCV, cross_val_score\n",
    "from sklearn.naive_bayes import GaussianNB, BernoulliNB\n",
    "from sklearn.feature_selection import SelectKBest, chi2\n",
    "from sklearn.preprocessing import Binarizer\n",
    "from sklearn.metrics import (accuracy_score, precision_score, recall_score, f1_score,\n",
    "                             classification_report, confusion_matrix, roc_auc_score)\n",
    "import matplotlib.pyplot as plt\n",
    "import seaborn as sns\n",
    "\n",
    "print(\"Libraries imported successfully.\")"
   ]
  },
  {
   "cell_type": "code",
   "execution_count": 29,
   "id": "f35818a1",
   "metadata": {},
   "outputs": [
    {
     "name": "stdout",
     "output_type": "stream",
     "text": [
      "Original shape: (12052, 1556)\n",
      "Shape after dropping irrelevant columns: (12052, 1554)\n",
      "\n",
      "Unseen test set shape: (1000, 1553)\n",
      "Unseen test set class distribution:\n",
      "IsCancelled\n",
      "False    533\n",
      "True     467\n",
      "Name: count, dtype: int64\n",
      "\n",
      "Training set shape: (8841, 1553)\n",
      "Testing set shape: (2211, 1553)\n"
     ]
    }
   ],
   "source": [
    "# --- 1.2: Load and Clean the Dataset ---\n",
    "df = pd.read_csv('df_without_stockcode_rfm.csv')  # Adjust path if needed\n",
    "print(f\"Original shape: {df.shape}\")\n",
    "\n",
    "# Drop irrelevant columns\n",
    "columns_to_drop = ['Quantity', 'InvoiceDate']\n",
    "df_cleaned = df.drop(columns=columns_to_drop)\n",
    "print(f\"Shape after dropping irrelevant columns: {df_cleaned.shape}\")\n",
    "\n",
    "# --- 1.3: Separate Features (X) and Target (y) ---\n",
    "y = df_cleaned['IsCancelled']\n",
    "X = df_cleaned.drop(columns=['IsCancelled'])\n",
    "\n",
    "# --- 1.4: Create Unseen Test Set and Split Remaining Data ---\n",
    "n_total = len(X)\n",
    "unseen_size = 1000\n",
    "\n",
    "if n_total >= unseen_size:\n",
    "    X_unseen, X_remaining, y_unseen, y_remaining = train_test_split(\n",
    "        X, y, test_size=n_total - unseen_size, random_state=42, stratify=y\n",
    "    )\n",
    "    print(f\"\\nUnseen test set shape: {X_unseen.shape}\")\n",
    "    print(f\"Unseen test set class distribution:\\n{y_unseen.value_counts()}\")\n",
    "\n",
    "    X_train, X_test, y_train, y_test = train_test_split(\n",
    "        X_remaining, y_remaining, test_size=0.2, random_state=42, stratify=y_remaining\n",
    "    )\n",
    "    print(f\"\\nTraining set shape: {X_train.shape}\")\n",
    "    print(f\"Testing set shape: {X_test.shape}\")\n",
    "else:\n",
    "    print(f\"Not enough samples in the dataset ({n_total}) to create an unseen test set of {unseen_size} records.\")"
   ]
  },
  {
   "cell_type": "code",
   "execution_count": 30,
   "id": "d9d05918",
   "metadata": {},
   "outputs": [
    {
     "name": "stdout",
     "output_type": "stream",
     "text": [
      "Shape of X_train_tfidf: (8841, 1542)\n",
      "Shape of X_train_engineered: (8841, 11)\n",
      "Shape of X_test_tfidf: (2211, 1542)\n",
      "Shape of X_test_engineered: (2211, 11)\n"
     ]
    }
   ],
   "source": [
    "# --- 1.5: Separate TF-IDF and Engineered Features ---\n",
    "engineered_features = ['UnitPrice', 'QuantityAbsolute', 'TotalAmount', 'Year', 'Month', 'Day', 'DayOfWeek', 'Hour', 'Recency', 'Frequency', 'Monetary']\n",
    "tfidf_columns = [col for col in X_train.columns if col not in engineered_features]\n",
    "\n",
    "# Split training and testing sets\n",
    "X_train_tfidf = X_train[tfidf_columns]\n",
    "X_train_engineered = X_train[engineered_features]\n",
    "X_test_tfidf = X_test[tfidf_columns]\n",
    "X_test_engineered = X_test[engineered_features]\n",
    "\n",
    "print(\"Shape of X_train_tfidf:\", X_train_tfidf.shape)\n",
    "print(\"Shape of X_train_engineered:\", X_train_engineered.shape)\n",
    "print(\"Shape of X_test_tfidf:\", X_test_tfidf.shape)\n",
    "print(\"Shape of X_test_engineered:\", X_test_engineered.shape)\n",
    "\n",
    "# Combine for feature selection\n",
    "X_train_all = pd.concat([X_train_tfidf, X_train_engineered], axis=1)\n",
    "X_test_all = pd.concat([X_test_tfidf, X_test_engineered], axis=1)"
   ]
  },
  {
   "cell_type": "code",
   "execution_count": 31,
   "id": "9a0788aa",
   "metadata": {},
   "outputs": [
    {
     "name": "stdout",
     "output_type": "stream",
     "text": [
      "Number of selected features: 200\n",
      "Sample selected features: ['Country_Australia', 'Country_EIRE', 'Country_France', 'Country_Germany', 'Country_Italy', 'Country_Japan', 'Country_Malta', 'Country_Netherlands', 'Country_Poland', 'Country_USA']\n"
     ]
    }
   ],
   "source": [
    "# --- 1.6: Feature Selection with SelectKBest ---\n",
    "X_train_non_neg = X_train_all.clip(lower=0)\n",
    "selector = SelectKBest(chi2, k=200)\n",
    "X_train_selected = selector.fit_transform(X_train_non_neg, y_train)\n",
    "X_test_selected = selector.transform(X_test_all.clip(lower=0))\n",
    "\n",
    "selected_features = X_train_all.columns[selector.get_support()].tolist()\n",
    "print(\"Number of selected features:\", len(selected_features))\n",
    "print(\"Sample selected features:\", selected_features[:10])"
   ]
  },
  {
   "cell_type": "code",
   "execution_count": 32,
   "id": "d04c8027",
   "metadata": {},
   "outputs": [
    {
     "name": "stdout",
     "output_type": "stream",
     "text": [
      "GaussianNB Default - Accuracy: 0.6942559927634554\n",
      "              precision    recall  f1-score   support\n",
      "\n",
      "       False       0.67      0.85      0.75      1178\n",
      "        True       0.75      0.51      0.61      1033\n",
      "\n",
      "    accuracy                           0.69      2211\n",
      "   macro avg       0.71      0.68      0.68      2211\n",
      "weighted avg       0.71      0.69      0.68      2211\n",
      "\n"
     ]
    },
    {
     "data": {
      "image/png": "[encoded data removed]",
      "text/plain": [
       "<Figure size 640x480 with 2 Axes>"
      ]
     },
     "metadata": {},
     "output_type": "display_data"
    }
   ],
   "source": [
    "# --- 2.1: Train GaussianNB (Default) ---\n",
    "gauss_model = GaussianNB()\n",
    "gauss_model.fit(X_train_selected, y_train)\n",
    "\n",
    "# Predict and evaluate\n",
    "y_pred_gauss = gauss_model.predict(X_test_selected)\n",
    "print(\"GaussianNB Default - Accuracy:\", accuracy_score(y_test, y_pred_gauss))\n",
    "print(classification_report(y_test, y_pred_gauss))\n",
    "\n",
    "# Confusion Matrix\n",
    "cm_gauss = confusion_matrix(y_test, y_pred_gauss)\n",
    "sns.heatmap(cm_gauss, annot=True, fmt='d', cmap='Blues')\n",
    "plt.title('Confusion Matrix - GaussianNB Default')\n",
    "plt.xlabel('Predicted')\n",
    "plt.ylabel('True')\n",
    "plt.show()"
   ]
  },
  {
   "cell_type": "code",
   "execution_count": 33,
   "id": "9b07ca23",
   "metadata": {},
   "outputs": [
    {
     "name": "stdout",
     "output_type": "stream",
     "text": [
      "GaussianNB Tuned - Best params: {'var_smoothing': 1e-07}\n",
      "Accuracy: 0.6784260515603799\n",
      "              precision    recall  f1-score   support\n",
      "\n",
      "       False       0.74      0.61      0.67      1178\n",
      "        True       0.63      0.75      0.69      1033\n",
      "\n",
      "    accuracy                           0.68      2211\n",
      "   macro avg       0.68      0.68      0.68      2211\n",
      "weighted avg       0.69      0.68      0.68      2211\n",
      "\n"
     ]
    },
    {
     "data": {
      "image/png": "[encoded data removed]",
      "text/plain": [
       "<Figure size 640x480 with 2 Axes>"
      ]
     },
     "metadata": {},
     "output_type": "display_data"
    }
   ],
   "source": [
    "# --- 2.2: Tune GaussianNB with GridSearchCV ---\n",
    "params = {'var_smoothing': [1e-9, 1e-8, 1e-7]}\n",
    "grid_gauss = GridSearchCV(GaussianNB(), params, cv=5, scoring='f1')\n",
    "grid_gauss.fit(X_train_selected, y_train)\n",
    "\n",
    "# Best model\n",
    "best_gauss = grid_gauss.best_estimator_\n",
    "y_pred_gauss_tuned = best_gauss.predict(X_test_selected)\n",
    "print(\"GaussianNB Tuned - Best params:\", grid_gauss.best_params_)\n",
    "print(\"Accuracy:\", accuracy_score(y_test, y_pred_gauss_tuned))\n",
    "print(classification_report(y_test, y_pred_gauss_tuned))\n",
    "\n",
    "# Confusion Matrix\n",
    "cm_gauss_tuned = confusion_matrix(y_test, y_pred_gauss_tuned)\n",
    "sns.heatmap(cm_gauss_tuned, annot=True, fmt='d', cmap='Blues')\n",
    "plt.title('Confusion Matrix - GaussianNB Tuned')\n",
    "plt.xlabel('Predicted')\n",
    "plt.ylabel('True')\n",
    "plt.show()"
   ]
  },
  {
   "cell_type": "code",
   "execution_count": 34,
   "id": "4d68a6ce",
   "metadata": {},
   "outputs": [
    {
     "name": "stdout",
     "output_type": "stream",
     "text": [
      "BernoulliNB - Accuracy: 0.6996834011759385\n",
      "              precision    recall  f1-score   support\n",
      "\n",
      "       False       0.72      0.72      0.72      1178\n",
      "        True       0.68      0.67      0.68      1033\n",
      "\n",
      "    accuracy                           0.70      2211\n",
      "   macro avg       0.70      0.70      0.70      2211\n",
      "weighted avg       0.70      0.70      0.70      2211\n",
      "\n"
     ]
    },
    {
     "data": {
      "image/png": "[encoded data removed]",
      "text/plain": [
       "<Figure size 640x480 with 2 Axes>"
      ]
     },
     "metadata": {},
     "output_type": "display_data"
    }
   ],
   "source": [
    "# --- 2.3: Train BernoulliNB with Binarization ---\n",
    "threshold = X_train_all.select_dtypes(include=['float64', 'int64']).median().median()\n",
    "binarizer = Binarizer(threshold=threshold)\n",
    "X_train_binarized = binarizer.fit_transform(X_train_selected)\n",
    "X_test_binarized = binarizer.transform(X_test_selected)\n",
    "\n",
    "bern_model = BernoulliNB(alpha=1.0)\n",
    "bern_model.fit(X_train_binarized, y_train)\n",
    "\n",
    "# Predict and evaluate\n",
    "y_pred_bern = bern_model.predict(X_test_binarized)\n",
    "print(\"BernoulliNB - Accuracy:\", accuracy_score(y_test, y_pred_bern))\n",
    "print(classification_report(y_test, y_pred_bern))\n",
    "\n",
    "# Confusion Matrix\n",
    "cm_bern = confusion_matrix(y_test, y_pred_bern)\n",
    "sns.heatmap(cm_bern, annot=True, fmt='d', cmap='Blues')\n",
    "plt.title('Confusion Matrix - BernoulliNB')\n",
    "plt.xlabel('Predicted')\n",
    "plt.ylabel('True')\n",
    "plt.show()"
   ]
  },
  {
   "cell_type": "code",
   "execution_count": 35,
   "id": "9c2bf00a",
   "metadata": {},
   "outputs": [
    {
     "name": "stdout",
     "output_type": "stream",
     "text": [
      "GaussianNB Tuned CV F1 Scores: [0.70416876 0.69924812 0.63921328 0.67726027 0.63710181] Mean: 0.6713984482053335\n",
      "\n",
      "Model Comparison:\n",
      "                 Model  Accuracy  F1 Score\n",
      "0  GaussianNB Default  0.694256  0.611047\n",
      "1    GaussianNB Tuned  0.678426  0.686093\n",
      "2         BernoulliNB  0.699683  0.676098\n"
     ]
    }
   ],
   "source": [
    "# --- 2.4: Cross-Validation ---\n",
    "cv_scores_gauss = cross_val_score(best_gauss, X_train_selected, y_train, cv=5, scoring='f1')\n",
    "print(\"GaussianNB Tuned CV F1 Scores:\", cv_scores_gauss, \"Mean:\", cv_scores_gauss.mean())\n",
    "\n",
    "# Compare models\n",
    "results = pd.DataFrame({\n",
    "    'Model': ['GaussianNB Default', 'GaussianNB Tuned', 'BernoulliNB'],\n",
    "    'Accuracy': [accuracy_score(y_test, y_pred_gauss), accuracy_score(y_test, y_pred_gauss_tuned), accuracy_score(y_test, y_pred_bern)],\n",
    "    'F1 Score': [f1_score(y_test, y_pred_gauss), f1_score(y_test, y_pred_gauss_tuned), f1_score(y_test, y_pred_bern)]\n",
    "})\n",
    "print(\"\\nModel Comparison:\\n\", results)"
   ]
  },
  {
   "cell_type": "code",
   "execution_count": 36,
   "id": "05c1cf74",
   "metadata": {},
   "outputs": [
    {
     "name": "stdout",
     "output_type": "stream",
     "text": [
      "Performance Comparison (Train vs. Test) - GaussianNB Tuned\n",
      "F1 Score (Training): 0.6816\n",
      "F1 Score (Test): 0.6861\n",
      "ROC AUC Score (Training): 0.7311\n",
      "ROC AUC Score (Test): 0.7411\n"
     ]
    }
   ],
   "source": [
    "# --- 2.5: Performance Metrics for GaussianNB Tuned ---\n",
    "y_train_pred_gauss = best_gauss.predict(X_train_selected)\n",
    "y_test_pred_gauss = best_gauss.predict(X_test_selected)\n",
    "y_train_prob_gauss = best_gauss.predict_proba(X_train_selected)[:, 1]\n",
    "y_test_prob_gauss = best_gauss.predict_proba(X_test_selected)[:, 1]\n",
    "\n",
    "f1_train_gauss = f1_score(y_train, y_train_pred_gauss)\n",
    "f1_test_gauss = f1_score(y_test, y_test_pred_gauss)\n",
    "roc_auc_train_gauss = roc_auc_score(y_train, y_train_prob_gauss)\n",
    "roc_auc_test_gauss = roc_auc_score(y_test, y_test_prob_gauss)\n",
    "\n",
    "print(\"Performance Comparison (Train vs. Test) - GaussianNB Tuned\")\n",
    "print(f\"F1 Score (Training): {f1_train_gauss:.4f}\")\n",
    "print(f\"F1 Score (Test): {f1_test_gauss:.4f}\")\n",
    "print(f\"ROC AUC Score (Training): {roc_auc_train_gauss:.4f}\")\n",
    "print(f\"ROC AUC Score (Test): {roc_auc_test_gauss:.4f}\")"
   ]
  },
  {
   "cell_type": "code",
   "execution_count": 37,
   "id": "34e5835d",
   "metadata": {},
   "outputs": [
    {
     "name": "stdout",
     "output_type": "stream",
     "text": [
      "Performance Comparison (Train vs. Test) - BernoulliNB\n",
      "F1 Score (Training): 0.6897\n",
      "F1 Score (Test): 0.6761\n",
      "ROC AUC Score (Training): 0.7868\n",
      "ROC AUC Score (Test): 0.7652\n"
     ]
    }
   ],
   "source": [
    "# --- 2.6: Performance Metrics for BernoulliNB ---\n",
    "y_train_pred_bern = bern_model.predict(X_train_binarized)\n",
    "y_test_pred_bern = bern_model.predict(X_test_binarized)\n",
    "y_train_prob_bern = bern_model.predict_proba(X_train_binarized)[:, 1]\n",
    "y_test_prob_bern = bern_model.predict_proba(X_test_binarized)[:, 1]\n",
    "\n",
    "f1_train_bern = f1_score(y_train, y_train_pred_bern)\n",
    "f1_test_bern = f1_score(y_test, y_test_pred_bern)\n",
    "roc_auc_train_bern = roc_auc_score(y_train, y_train_prob_bern)\n",
    "roc_auc_test_bern = roc_auc_score(y_test, y_test_prob_bern)\n",
    "\n",
    "print(\"Performance Comparison (Train vs. Test) - BernoulliNB\")\n",
    "print(f\"F1 Score (Training): {f1_train_bern:.4f}\")\n",
    "print(f\"F1 Score (Test): {f1_test_bern:.4f}\")\n",
    "print(f\"ROC AUC Score (Training): {roc_auc_train_bern:.4f}\")\n",
    "print(f\"ROC AUC Score (Test): {roc_auc_test_bern:.4f}\")"
   ]
  }
 ],
 "metadata": {
  "kernelspec": {
   "display_name": "Python 3",
   "language": "python",
   "name": "python3"
  },
  "language_info": {
   "codemirror_mode": {
    "name": "ipython",
    "version": 3
   },
   "file_extension": ".py",
   "mimetype": "text/x-python",
   "name": "python",
   "nbconvert_exporter": "python",
   "pygments_lexer": "ipython3",
   "version": "3.13.7"
  }
 },
 "nbformat": 4,
 "nbformat_minor": 5
}
